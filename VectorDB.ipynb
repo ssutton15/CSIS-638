{
 "cells": [
  {
   "cell_type": "markdown",
   "id": "ddb6075d-3375-427c-ba0a-bc1bda456224",
   "metadata": {},
   "source": [
    "# Vector Database\n",
    "#### 1.25.24\n",
    "#### Sheldon Sutton in connection with MUSC\n",
    "#### Surgical Innovation Center"
   ]
  },
  {
   "cell_type": "code",
   "execution_count": 5,
   "id": "6bbfb76b-b8a7-4a83-831b-61939ee430c1",
   "metadata": {},
   "outputs": [
    {
     "name": "stdout",
     "output_type": "stream",
     "text": [
      "Requirement already satisfied: pgvector in /Users/sheldonsutton/opt/anaconda3/lib/python3.9/site-packages (0.2.4)\n",
      "Requirement already satisfied: numpy in /Users/sheldonsutton/opt/anaconda3/lib/python3.9/site-packages (from pgvector) (1.21.5)\n"
     ]
    }
   ],
   "source": [
    "#!pip install openai\n",
    "#!pip install tiktoken\n",
    "#!pip install psycopg2 -- looping error\n",
    "#!pip install pgvector"
   ]
  },
  {
   "cell_type": "code",
   "execution_count": 40,
   "id": "0d47a5cb-6507-4752-b22b-b6f661b3a471",
   "metadata": {},
   "outputs": [
    {
     "name": "stdout",
     "output_type": "stream",
     "text": [
      "ACC/AHA/ACCP/HRS Guideline for the Diagnosis and Management of\n"
     ]
    }
   ],
   "source": [
    "import re\n",
    "\n",
    "text = \"\"\"CLINICAL PRACTICE GUIDELINE\\n2023 ACC/AHA/ACCP/HRS Guideline\\nfor the Diagnosis and Management of\\nAtrial Fibrillation\\nA Report of the American College of Cardiology/American Heart Association\\nJoint Committee\"\"\"\n",
    "\n",
    "# Define the pattern to extract the title\n",
    "pattern = r'\\d{4}\\s(.*?)(?:\\n[A-Z]|$)'\n",
    "\n",
    "# Use re.findall to extract the title\n",
    "matches = re.findall(pattern, text, re.DOTALL)\n",
    "\n",
    "# Join the matches and replace '\\n' with a space\n",
    "title = ' '.join(matches).replace('\\n', ' ')\n",
    "\n",
    "# Print the extracted title\n",
    "print(title)"
   ]
  },
  {
   "cell_type": "code",
   "execution_count": 9,
   "id": "93ef0372-5e2a-466e-b4f1-7be660d91fd3",
   "metadata": {},
   "outputs": [
    {
     "name": "stdout",
     "output_type": "stream",
     "text": [
      "Collecting pymupdf\n",
      "  Downloading PyMuPDF-1.23.19-cp39-none-macosx_10_9_x86_64.whl (4.2 MB)\n",
      "\u001b[K     |████████████████████████████████| 4.2 MB 2.7 MB/s eta 0:00:01\n",
      "\u001b[?25hCollecting PyMuPDFb==1.23.9\n",
      "  Downloading PyMuPDFb-1.23.9-py3-none-macosx_10_9_x86_64.whl (30.1 MB)\n",
      "\u001b[K     |████████████████████████████████| 30.1 MB 2.3 MB/s eta 0:00:01\n",
      "\u001b[?25hInstalling collected packages: PyMuPDFb, pymupdf\n",
      "Successfully installed PyMuPDFb-1.23.9 pymupdf-1.23.19\n",
      "Note: you may need to restart the kernel to use updated packages.\n"
     ]
    }
   ],
   "source": [
    "#Note:this code section only works with ACC in folders by year\n",
    "#pip install pymupdf\n"
   ]
  },
  {
   "cell_type": "markdown",
   "id": "8ca3aac1-be12-4c57-977d-0b562266648d",
   "metadata": {
    "tags": []
   },
   "source": [
    "# Create all Dfs at once from multiple folders\n",
    "assumes each folder contains files (i.e. not subfolders)\n"
   ]
  },
  {
   "cell_type": "markdown",
   "id": "71d55c1e-5b93-4250-b48d-0b7e51b0e8da",
   "metadata": {
    "tags": []
   },
   "source": [
    "### Imports/Settings"
   ]
  },
  {
   "cell_type": "code",
   "execution_count": 2,
   "id": "db92e8d8-8204-482d-93e6-052acad0546b",
   "metadata": {},
   "outputs": [],
   "source": [
    "import os\n",
    "import pandas as pd\n",
    "import fitz  # PyMuPDF\n",
    "from tqdm import tqdm #for progress bars when reading files\n",
    "import warnings\n",
    "\n",
    "# Filter out FutureWarnings\n",
    "warnings.simplefilter(action='ignore', category=FutureWarning)\n",
    "#warnings.resetwarnings() #return to default\n",
    "\n",
    "pd.set_option('display.max_colwidth', 500)\n",
    "#pd.reset_option('display.max_colwidth') #return to default"
   ]
  },
  {
   "cell_type": "markdown",
   "id": "cab8e1ff-468b-4063-a617-18b6a7b85079",
   "metadata": {
    "tags": []
   },
   "source": [
    "### Functions"
   ]
  },
  {
   "cell_type": "code",
   "execution_count": 2,
   "id": "8aca07c7-9858-4091-acbf-624535270b76",
   "metadata": {},
   "outputs": [],
   "source": [
    "# Function to extract text from a PDF file\n",
    "def extract_text_from_pdf(pdf_path):\n",
    "    doc = fitz.open(pdf_path)\n",
    "    text = \"\"\n",
    "    for page_num in range(doc.page_count):\n",
    "        page = doc[page_num]\n",
    "        text += page.get_text()\n",
    "    doc.close()\n",
    "    return text"
   ]
  },
  {
   "cell_type": "code",
   "execution_count": 3,
   "id": "91e89f5b-f160-4489-b5a4-56249f94887a",
   "metadata": {},
   "outputs": [],
   "source": [
    "# Function to create a DataFrame for a given folder\n",
    "def create_df(folder_path, journal_name):\n",
    "    df = pd.DataFrame(columns=['Journal', 'Title', 'Text'])\n",
    "\n",
    "    for pdf_file in tqdm(os.listdir(folder_path), desc=f'Processing {journal_name} PDFs', unit='file'):\n",
    "        if pdf_file.endswith(\".pdf\"):\n",
    "            pdf_path = os.path.join(folder_path, pdf_file)\n",
    "            title = pdf_file.replace('.pdf', '')\n",
    "            text = extract_text_from_pdf(pdf_path)\n",
    "            df = df.append({'Journal': journal_name, 'Title': title, 'Text': text}, ignore_index=True)\n",
    "\n",
    "    return df"
   ]
  },
  {
   "cell_type": "markdown",
   "id": "297fab3c-9996-4d61-9790-5d99ff70e3b9",
   "metadata": {
    "tags": []
   },
   "source": [
    "### Code using functions"
   ]
  },
  {
   "cell_type": "code",
   "execution_count": 4,
   "id": "c959f7a1-6c4b-4c40-856d-9fdd990a7c72",
   "metadata": {},
   "outputs": [
    {
     "name": "stderr",
     "output_type": "stream",
     "text": [
      "Processing ACC PDFs: 100%|██████████| 20/20 [00:13<00:00,  1.46file/s]\n",
      "Processing American Heart Association PDFs: 100%|██████████| 27/27 [00:05<00:00,  4.66file/s]\n",
      "Processing Society of Cardiovascular Anesthesiologists PDFs: 100%|██████████| 6/6 [00:00<00:00,  7.61file/s]\n",
      "Processing Society of Thoracic Surgeons PDFs: 100%|██████████| 12/12 [00:01<00:00,  8.50file/s]\n"
     ]
    }
   ],
   "source": [
    "# Base folder path\n",
    "base_folder = \"/Users/sheldonsutton/Desktop/MUSC_VectorDB\"\n",
    "\n",
    "# Access folders\n",
    "acc_folder = os.path.join(base_folder, 'ACC')\n",
    "aha_folder = os.path.join(base_folder, 'American Heart Association')\n",
    "sca_folder = os.path.join(base_folder, 'Society of Cardiovascular Anesthesiologists')\n",
    "sts_folder = os.path.join(base_folder, 'Society of Thoracic Surgeons')\n",
    "\n",
    "# Create DataFrames\n",
    "df_acc = create_df(acc_folder, 'ACC')\n",
    "df_aha = create_df(aha_folder, 'American Heart Association')\n",
    "df_sca = create_df(sca_folder, 'Society of Cardiovascular Anesthesiologists')\n",
    "df_sts = create_df(sts_folder, 'Society of Thoracic Surgeons')\n"
   ]
  },
  {
   "cell_type": "code",
   "execution_count": 5,
   "id": "74e6fd50-1186-4ceb-9c0b-3ee61d9708bf",
   "metadata": {},
   "outputs": [
    {
     "data": {
      "text/html": [
       "<div>\n",
       "<style scoped>\n",
       "    .dataframe tbody tr th:only-of-type {\n",
       "        vertical-align: middle;\n",
       "    }\n",
       "\n",
       "    .dataframe tbody tr th {\n",
       "        vertical-align: top;\n",
       "    }\n",
       "\n",
       "    .dataframe thead th {\n",
       "        text-align: right;\n",
       "    }\n",
       "</style>\n",
       "<table border=\"1\" class=\"dataframe\">\n",
       "  <thead>\n",
       "    <tr style=\"text-align: right;\">\n",
       "      <th></th>\n",
       "      <th>Journal</th>\n",
       "      <th>Title</th>\n",
       "      <th>Text</th>\n",
       "    </tr>\n",
       "  </thead>\n",
       "  <tbody>\n",
       "    <tr>\n",
       "      <th>0</th>\n",
       "      <td>ACC</td>\n",
       "      <td>shen-et-al-2017-2017-acc-aha-hrs-guideline-for-the-evaluation-and-management-of-patients-with-syncope</td>\n",
       "      <td>CLINICAL PRACTICE GUIDELINE\\n2017 ACC/AHA/HRS Guideline for the\\nEvaluation and Management of\\nPatients With Syncope\\nA Report of the American College of Cardiology/American Heart Association\\nTask Force on Clinical Practice Guidelines and the Heart Rhythm Society\\nDeveloped in Collaboration With the American College of Emergency Physicians and\\nSociety for Academic Emergency Medicine\\nEndorsed by the Pediatric and Congenital Electrophysiology Society\\nWriting\\nCommittee\\nMembers*\\nWin-Kuang...</td>\n",
       "    </tr>\n",
       "    <tr>\n",
       "      <th>1</th>\n",
       "      <td>ACC</td>\n",
       "      <td>gulati-et-al-2021-2021-aha-acc-ase-chest-saem-scct-scmr-guideline-for-the-evaluation-and-diagnosis-of-chest-pain</td>\n",
       "      <td>CLINICAL PRACTICE GUIDELINE: FULL TEXT\\n2021 AHA/ACC/ASE/CHEST/SAEM/\\nSCCT/SCMR Guideline for the\\nEvaluation and Diagnosis of Chest Pain\\nA Report of the American College of Cardiology/American Heart Association\\nJoint Committee on Clinical Practice Guidelines\\nWriting\\nCommittee\\nMembers*\\nMartha Gulati, MD, MS, FACC, FAHA, Chairy\\nPhillip D. Levy, MD, MPH, FACC, FAHA, Vice Chairy\\nDebabrata Mukherjee, MD, MS, FACC, FAHA, Vice Chairy\\nEzra Amsterdam, MD, FACCy\\nDeepak L. Bhatt, MD, MPH, FA...</td>\n",
       "    </tr>\n",
       "  </tbody>\n",
       "</table>\n",
       "</div>"
      ],
      "text/plain": [
       "  Journal  \\\n",
       "0     ACC   \n",
       "1     ACC   \n",
       "\n",
       "                                                                                                              Title  \\\n",
       "0             shen-et-al-2017-2017-acc-aha-hrs-guideline-for-the-evaluation-and-management-of-patients-with-syncope   \n",
       "1  gulati-et-al-2021-2021-aha-acc-ase-chest-saem-scct-scmr-guideline-for-the-evaluation-and-diagnosis-of-chest-pain   \n",
       "\n",
       "                                                                                                                                                                                                                                                                                                                                                                                                                                                                                                                  Text  \n",
       "0  CLINICAL PRACTICE GUIDELINE\\n2017 ACC/AHA/HRS Guideline for the\\nEvaluation and Management of\\nPatients With Syncope\\nA Report of the American College of Cardiology/American Heart Association\\nTask Force on Clinical Practice Guidelines and the Heart Rhythm Society\\nDeveloped in Collaboration With the American College of Emergency Physicians and\\nSociety for Academic Emergency Medicine\\nEndorsed by the Pediatric and Congenital Electrophysiology Society\\nWriting\\nCommittee\\nMembers*\\nWin-Kuang...  \n",
       "1  CLINICAL PRACTICE GUIDELINE: FULL TEXT\\n2021 AHA/ACC/ASE/CHEST/SAEM/\\nSCCT/SCMR Guideline for the\\nEvaluation and Diagnosis of Chest Pain\\nA Report of the American College of Cardiology/American Heart Association\\nJoint Committee on Clinical Practice Guidelines\\nWriting\\nCommittee\\nMembers*\\nMartha Gulati, MD, MS, FACC, FAHA, Chairy\\nPhillip D. Levy, MD, MPH, FACC, FAHA, Vice Chairy\\nDebabrata Mukherjee, MD, MS, FACC, FAHA, Vice Chairy\\nEzra Amsterdam, MD, FACCy\\nDeepak L. Bhatt, MD, MPH, FA...  "
      ]
     },
     "execution_count": 5,
     "metadata": {},
     "output_type": "execute_result"
    }
   ],
   "source": [
    "df_acc.head(2)"
   ]
  },
  {
   "cell_type": "markdown",
   "id": "622f4750-e08b-4e0d-9fcf-501a9fde45f8",
   "metadata": {
    "tags": []
   },
   "source": [
    "### Combine DFs"
   ]
  },
  {
   "cell_type": "code",
   "execution_count": 6,
   "id": "9ab4c5e7-016e-4eab-8711-0f34d3e6de5a",
   "metadata": {},
   "outputs": [
    {
     "data": {
      "text/html": [
       "<div>\n",
       "<style scoped>\n",
       "    .dataframe tbody tr th:only-of-type {\n",
       "        vertical-align: middle;\n",
       "    }\n",
       "\n",
       "    .dataframe tbody tr th {\n",
       "        vertical-align: top;\n",
       "    }\n",
       "\n",
       "    .dataframe thead th {\n",
       "        text-align: right;\n",
       "    }\n",
       "</style>\n",
       "<table border=\"1\" class=\"dataframe\">\n",
       "  <thead>\n",
       "    <tr style=\"text-align: right;\">\n",
       "      <th></th>\n",
       "      <th>Journal</th>\n",
       "      <th>Title</th>\n",
       "      <th>Text</th>\n",
       "    </tr>\n",
       "  </thead>\n",
       "  <tbody>\n",
       "    <tr>\n",
       "      <th>0</th>\n",
       "      <td>ACC</td>\n",
       "      <td>shen-et-al-2017-2017-acc-aha-hrs-guideline-for-the-evaluation-and-management-of-patients-with-syncope</td>\n",
       "      <td>CLINICAL PRACTICE GUIDELINE 2017 ACC/AHA/HRS Guideline for the Evaluation and Management of Patients With Syncope A Report of the American College of Cardiology/American Heart Association Task Force on Clinical Practice Guidelines and the Heart Rhythm Society Developed in Collaboration With the American College of Emergency Physicians and Society for Academic Emergency Medicine Endorsed by the Pediatric and Congenital Electrophysiology Society Writing Committee Members* Win-Kuang Shen, MD, F...</td>\n",
       "    </tr>\n",
       "    <tr>\n",
       "      <th>1</th>\n",
       "      <td>ACC</td>\n",
       "      <td>gulati-et-al-2021-2021-aha-acc-ase-chest-saem-scct-scmr-guideline-for-the-evaluation-and-diagnosis-of-chest-pain</td>\n",
       "      <td>CLINICAL PRACTICE GUIDELINE: FULL TEXT 2021 AHA/ACC/ASE/CHEST/SAEM/ SCCT/SCMR Guideline for the Evaluation and Diagnosis of Chest Pain A Report of the American College of Cardiology/American Heart Association Joint Committee on Clinical Practice Guidelines Writing Committee Members* Martha Gulati, MD, MS, FACC, FAHA, Chairy Phillip D. Levy, MD, MPH, FACC, FAHA, Vice Chairy Debabrata Mukherjee, MD, MS, FACC, FAHA, Vice Chairy Ezra Amsterdam, MD, FACCy Deepak L. Bhatt, MD, MPH, FACC, FAHAy Kim...</td>\n",
       "    </tr>\n",
       "    <tr>\n",
       "      <th>2</th>\n",
       "      <td>ACC</td>\n",
       "      <td>grundy-et-al-2018-2018-aha-acc-aacvpr-aapa-abc-acpm-ada-ags-apha-aspc-nla-pcna-guideline-on-the-management-of-blood</td>\n",
       "      <td>CLINICAL PRACTICE GUIDELINE 2018 AHA/ACC/AACVPR/AAPA/ ABC/ACPM/ADA/AGS/APhA/ASPC/ NLA/PCNA Guideline on the Management of Blood Cholesterol A Report of the American College of Cardiology/American Heart Association Task Force on Clinical Practice Guidelines Writing Committee Members Scott M. Grundy, MD, PHD, FAHA, Chair* Neil J. Stone, MD, FACC, FAHA, Vice Chair* Alison L. Bailey, MD, FACC, FAACVPRy Craig Beam, CRE* Kim K. Birtcher, MS, PHARMD, AACC, FNLAz Roger S. Blumenthal, MD, FACC, FAHA,...</td>\n",
       "    </tr>\n",
       "    <tr>\n",
       "      <th>3</th>\n",
       "      <td>ACC</td>\n",
       "      <td>stout-et-al-2018-2018-aha-acc-guideline-for-the-management-of-adults-with-congenital-heart-disease</td>\n",
       "      <td>CLINICAL PRACTICE GUIDELINE 2018 AHA/ACC Guideline for the Management of Adults With Congenital Heart Disease A Report of the American College of Cardiology/American Heart Association Task Force on Clinical Practice Guidelines Developed in Collaboration With the American Association for Thoracic Surgery, American Society of Echocardiography, Heart Rhythm Society, International Society for Adult Congenital Heart Disease, Society for Cardiovascular Angiography and Interventions, and Society of...</td>\n",
       "    </tr>\n",
       "    <tr>\n",
       "      <th>4</th>\n",
       "      <td>ACC</td>\n",
       "      <td>whelton-et-al-2017-2017-acc-aha-aapa-abc-acpm-ags-apha-ash-aspc-nma-pcna-guideline-for-the-prevention-detection</td>\n",
       "      <td>CLINICAL PRACTICE GUIDELINE 2017 ACC/AHA/AAPA/ABC/ACPM/ AGS/APhA/ASH/ASPC/NMA/PCNA Guideline for the Prevention, Detection, Evaluation, and Management of High Blood Pressure in Adults A Report of the American College of Cardiology/American Heart Association Task Force on Clinical Practice Guidelines Writing Committee Members Paul K. Whelton, MB, MD, MSC, FAHA, Chair Robert M. Carey, MD, FAHA, Vice Chair Wilbert S. Aronow, MD, FACC, FAHA* Donald E. Casey, JR, MD, MPH, MBA, FAHAy Karen J. Coll...</td>\n",
       "    </tr>\n",
       "    <tr>\n",
       "      <th>...</th>\n",
       "      <td>...</td>\n",
       "      <td>...</td>\n",
       "      <td>...</td>\n",
       "    </tr>\n",
       "    <tr>\n",
       "      <th>56</th>\n",
       "      <td>Society of Thoracic Surgeons</td>\n",
       "      <td>PBM_Guideline_2021</td>\n",
       "      <td>PATIENT BLOOD MANAGEMENT GUIDELINES STS/SCA/AmSECT/SABM Update to the Clinical Practice Guidelines on Patient Blood Management Pierre Tibi, MD, R. Scott McClure, MD, FRCSC, Jiapeng Huang, MD, Robert A. Baker, PhD, CCP, David Fitzgerald, DHA, CCP, C. David Mazer, MD, Marc Stone, MD, Danny Chu, MD, Alfred H. Stammers, MSA, CCP Emeritus, Tim Dickinson, CCP, Linda Shore-Lesserson, MD, Victor Ferraris, MD, Scott Firestone, MS, Kalie Kissoon, and Susan Moffatt-Bruce, MD, FRCSC Department of Cardio...</td>\n",
       "    </tr>\n",
       "    <tr>\n",
       "      <th>57</th>\n",
       "      <td>Society of Thoracic Surgeons</td>\n",
       "      <td>Guidelines_ArterialConduitsforCABG</td>\n",
       "      <td>The Society of Thoracic Surgeons Clinical Practice Guidelines on Arterial Conduits for Coronary Artery Bypass Grafting Gabriel S. Aldea, MD, Faisal G. Bakaeen, MD, Jay Pal, MD, PhD, Stephen Fremes, MD, Stuart J. Head, MD, PhD, Joseph Sabik, MD, Todd Rosengart, MD, A. Pieter Kappetein, MD, PhD, Vinod H. Thourani, MD, Scott Firestone, MS, and John D. Mitchell, MD Division of Cardiothoracic Surgery, University of Washington School of Medicine, Seattle, Washington; Department of Cardiovascular S...</td>\n",
       "    </tr>\n",
       "    <tr>\n",
       "      <th>58</th>\n",
       "      <td>Society of Thoracic Surgeons</td>\n",
       "      <td>CredentialingofPractitionerstoPerformEndovascularStentGrafti</td>\n",
       "      <td>STS/AATS POSITION STATEMENT Guidelines for Credentialing of Practitioners to Perform Endovascular Stent-Grafting of the Thoracic Aorta Nicholas T. Kouchoukos, MD (Chair), Joseph E. Bavaria, MD, Joseph S. Coselli, MD, Ralph De La Torre, MD, John S. Ikonomidis, MD, Riyad C. Karmy-Jones, MD, Robert Scott Mitchell, MD, Richard J. Shemin, MD, David Spielvogel, MD, Lars G. Svensson, MD, and Grayson H. Wheatley, MD Task Force on Endovascular Surgery, Workforce on Adult Cardiac Surgery, Council on E...</td>\n",
       "    </tr>\n",
       "    <tr>\n",
       "      <th>59</th>\n",
       "      <td>Society of Thoracic Surgeons</td>\n",
       "      <td>GuidelinesforReportingDataandOutcomesfortheSurgicalTreatment</td>\n",
       "      <td>REPORT FROM THE WORKFORCE ON EVIDENCE-BASED SURGERY Guidelines for Reporting Data and Outcomes for the Surgical Treatment of Atrial Fibrillation Richard J. Shemin, MD, James L. Cox, MD, A. Marc Gillinov, MD, Eugene H. Blackstone, MD, and Charles R. Bridges, MD Division of Cardiothoracic Surgery, David Geffen School of Medicine at UCLA, Los Angeles, California; Division of Cardiothoracic Surgery, Washington University School of Medicine, St. Louis, Missouri; Department of Thoracic and Cardiov...</td>\n",
       "    </tr>\n",
       "    <tr>\n",
       "      <th>60</th>\n",
       "      <td>Society of Thoracic Surgeons</td>\n",
       "      <td>AntibioticProphylaxisinCardiacSurgeryPartIDuration</td>\n",
       "      <td>REPORT FROM THE WORKFORCE ON EVIDENCE-BASED MEDICINE The Society of Thoracic Surgeons Practice Guideline Series: Antibiotic Prophylaxis in Cardiac Surgery, Part I: Duration* Fred H. Edwards, MD, Richard M. Engelman, MD, Peter Houck, MD, MPH, David M. Shahian, MD, and Charles R. Bridges, MD, ScD Division of Cardiothoracic Surgery, University of Florida, Jacksonville, Florida; Division of Cardiac Surgery Research, Baystate Medical Center, Springﬁeld, Massachussetts; School of Public Health and...</td>\n",
       "    </tr>\n",
       "  </tbody>\n",
       "</table>\n",
       "<p>61 rows × 3 columns</p>\n",
       "</div>"
      ],
      "text/plain": [
       "                         Journal  \\\n",
       "0                            ACC   \n",
       "1                            ACC   \n",
       "2                            ACC   \n",
       "3                            ACC   \n",
       "4                            ACC   \n",
       "..                           ...   \n",
       "56  Society of Thoracic Surgeons   \n",
       "57  Society of Thoracic Surgeons   \n",
       "58  Society of Thoracic Surgeons   \n",
       "59  Society of Thoracic Surgeons   \n",
       "60  Society of Thoracic Surgeons   \n",
       "\n",
       "                                                                                                                  Title  \\\n",
       "0                 shen-et-al-2017-2017-acc-aha-hrs-guideline-for-the-evaluation-and-management-of-patients-with-syncope   \n",
       "1      gulati-et-al-2021-2021-aha-acc-ase-chest-saem-scct-scmr-guideline-for-the-evaluation-and-diagnosis-of-chest-pain   \n",
       "2   grundy-et-al-2018-2018-aha-acc-aacvpr-aapa-abc-acpm-ada-ags-apha-aspc-nla-pcna-guideline-on-the-management-of-blood   \n",
       "3                    stout-et-al-2018-2018-aha-acc-guideline-for-the-management-of-adults-with-congenital-heart-disease   \n",
       "4       whelton-et-al-2017-2017-acc-aha-aapa-abc-acpm-ags-apha-ash-aspc-nma-pcna-guideline-for-the-prevention-detection   \n",
       "..                                                                                                                  ...   \n",
       "56                                                                                                   PBM_Guideline_2021   \n",
       "57                                                                                   Guidelines_ArterialConduitsforCABG   \n",
       "58                                                         CredentialingofPractitionerstoPerformEndovascularStentGrafti   \n",
       "59                                                         GuidelinesforReportingDataandOutcomesfortheSurgicalTreatment   \n",
       "60                                                                   AntibioticProphylaxisinCardiacSurgeryPartIDuration   \n",
       "\n",
       "                                                                                                                                                                                                                                                                                                                                                                                                                                                                                                                   Text  \n",
       "0   CLINICAL PRACTICE GUIDELINE 2017 ACC/AHA/HRS Guideline for the Evaluation and Management of Patients With Syncope A Report of the American College of Cardiology/American Heart Association Task Force on Clinical Practice Guidelines and the Heart Rhythm Society Developed in Collaboration With the American College of Emergency Physicians and Society for Academic Emergency Medicine Endorsed by the Pediatric and Congenital Electrophysiology Society Writing Committee Members* Win-Kuang Shen, MD, F...  \n",
       "1   CLINICAL PRACTICE GUIDELINE: FULL TEXT 2021 AHA/ACC/ASE/CHEST/SAEM/ SCCT/SCMR Guideline for the Evaluation and Diagnosis of Chest Pain A Report of the American College of Cardiology/American Heart Association Joint Committee on Clinical Practice Guidelines Writing Committee Members* Martha Gulati, MD, MS, FACC, FAHA, Chairy Phillip D. Levy, MD, MPH, FACC, FAHA, Vice Chairy Debabrata Mukherjee, MD, MS, FACC, FAHA, Vice Chairy Ezra Amsterdam, MD, FACCy Deepak L. Bhatt, MD, MPH, FACC, FAHAy Kim...  \n",
       "2   CLINICAL PRACTICE GUIDELINE 2018 AHA/ACC/AACVPR/AAPA/ ABC/ACPM/ADA/AGS/APhA/ASPC/ NLA/PCNA Guideline on the Management of Blood Cholesterol A Report of the American College of Cardiology/American Heart Association Task Force on Clinical Practice Guidelines Writing Committee Members Scott M. Grundy, MD, PHD, FAHA, Chair* Neil J. Stone, MD, FACC, FAHA, Vice Chair* Alison L. Bailey, MD, FACC, FAACVPRy Craig Beam, CRE* Kim K. Birtcher, MS, PHARMD, AACC, FNLAz Roger S. Blumenthal, MD, FACC, FAHA,...  \n",
       "3   CLINICAL PRACTICE GUIDELINE 2018 AHA/ACC Guideline for the Management of Adults With Congenital Heart Disease A Report of the American College of Cardiology/American Heart Association Task Force on Clinical Practice Guidelines Developed in Collaboration With the American Association for Thoracic Surgery, American Society of Echocardiography, Heart Rhythm Society, International Society for Adult Congenital Heart Disease, Society for Cardiovascular Angiography and Interventions, and Society of...  \n",
       "4   CLINICAL PRACTICE GUIDELINE 2017 ACC/AHA/AAPA/ABC/ACPM/ AGS/APhA/ASH/ASPC/NMA/PCNA Guideline for the Prevention, Detection, Evaluation, and Management of High Blood Pressure in Adults A Report of the American College of Cardiology/American Heart Association Task Force on Clinical Practice Guidelines Writing Committee Members Paul K. Whelton, MB, MD, MSC, FAHA, Chair Robert M. Carey, MD, FAHA, Vice Chair Wilbert S. Aronow, MD, FACC, FAHA* Donald E. Casey, JR, MD, MPH, MBA, FAHAy Karen J. Coll...  \n",
       "..                                                                                                                                                                                                                                                                                                                                                                                                                                                                                                                  ...  \n",
       "56  PATIENT BLOOD MANAGEMENT GUIDELINES STS/SCA/AmSECT/SABM Update to the Clinical Practice Guidelines on Patient Blood Management Pierre Tibi, MD, R. Scott McClure, MD, FRCSC, Jiapeng Huang, MD, Robert A. Baker, PhD, CCP, David Fitzgerald, DHA, CCP, C. David Mazer, MD, Marc Stone, MD, Danny Chu, MD, Alfred H. Stammers, MSA, CCP Emeritus, Tim Dickinson, CCP, Linda Shore-Lesserson, MD, Victor Ferraris, MD, Scott Firestone, MS, Kalie Kissoon, and Susan Moffatt-Bruce, MD, FRCSC Department of Cardio...  \n",
       "57  The Society of Thoracic Surgeons Clinical Practice Guidelines on Arterial Conduits for Coronary Artery Bypass Grafting Gabriel S. Aldea, MD, Faisal G. Bakaeen, MD, Jay Pal, MD, PhD, Stephen Fremes, MD, Stuart J. Head, MD, PhD, Joseph Sabik, MD, Todd Rosengart, MD, A. Pieter Kappetein, MD, PhD, Vinod H. Thourani, MD, Scott Firestone, MS, and John D. Mitchell, MD Division of Cardiothoracic Surgery, University of Washington School of Medicine, Seattle, Washington; Department of Cardiovascular S...  \n",
       "58  STS/AATS POSITION STATEMENT Guidelines for Credentialing of Practitioners to Perform Endovascular Stent-Grafting of the Thoracic Aorta Nicholas T. Kouchoukos, MD (Chair), Joseph E. Bavaria, MD, Joseph S. Coselli, MD, Ralph De La Torre, MD, John S. Ikonomidis, MD, Riyad C. Karmy-Jones, MD, Robert Scott Mitchell, MD, Richard J. Shemin, MD, David Spielvogel, MD, Lars G. Svensson, MD, and Grayson H. Wheatley, MD Task Force on Endovascular Surgery, Workforce on Adult Cardiac Surgery, Council on E...  \n",
       "59  REPORT FROM THE WORKFORCE ON EVIDENCE-BASED SURGERY Guidelines for Reporting Data and Outcomes for the Surgical Treatment of Atrial Fibrillation Richard J. Shemin, MD, James L. Cox, MD, A. Marc Gillinov, MD, Eugene H. Blackstone, MD, and Charles R. Bridges, MD Division of Cardiothoracic Surgery, David Geffen School of Medicine at UCLA, Los Angeles, California; Division of Cardiothoracic Surgery, Washington University School of Medicine, St. Louis, Missouri; Department of Thoracic and Cardiov...  \n",
       "60  REPORT FROM THE WORKFORCE ON EVIDENCE-BASED MEDICINE The Society of Thoracic Surgeons Practice Guideline Series: Antibiotic Prophylaxis in Cardiac Surgery, Part I: Duration* Fred H. Edwards, MD, Richard M. Engelman, MD, Peter Houck, MD, MPH, David M. Shahian, MD, and Charles R. Bridges, MD, ScD Division of Cardiothoracic Surgery, University of Florida, Jacksonville, Florida; Division of Cardiac Surgery Research, Baystate Medical Center, Springﬁeld, Massachussetts; School of Public Health and...  \n",
       "\n",
       "[61 rows x 3 columns]"
      ]
     },
     "execution_count": 6,
     "metadata": {},
     "output_type": "execute_result"
    }
   ],
   "source": [
    "journals_df = pd.concat([df_acc, df_aha, df_sca, df_sts], ignore_index=True)\n",
    "journals_df['Text'] = journals_df['Text'].str.replace('\\n', ' ') #replace \\n with ' ' in the 'Text' column\n",
    "journals_df"
   ]
  },
  {
   "cell_type": "code",
   "execution_count": 21,
   "id": "b4aaccdb-988e-45f0-be44-447e60dbf032",
   "metadata": {},
   "outputs": [
    {
     "data": {
      "text/plain": [
       "Journal                                    \n",
       "American Heart Association                     26\n",
       "ACC                                            19\n",
       "Society of Thoracic Surgeons                   11\n",
       "Society of Cardiovascular Anesthesiologists     5\n",
       "dtype: int64"
      ]
     },
     "execution_count": 21,
     "metadata": {},
     "output_type": "execute_result"
    }
   ],
   "source": [
    "journals_df[['Journal']].value_counts()"
   ]
  },
  {
   "cell_type": "markdown",
   "id": "78ce955e-6d70-46c4-a3c6-cf5f840093a0",
   "metadata": {
    "tags": []
   },
   "source": [
    "# Tokenizing/Cost Estimate"
   ]
  },
  {
   "cell_type": "markdown",
   "id": "5a08d3fb-55d4-47bf-9c8c-6329a53f6105",
   "metadata": {
    "tags": []
   },
   "source": [
    "### Imports"
   ]
  },
  {
   "cell_type": "code",
   "execution_count": 7,
   "id": "f7a85d10-fb2a-4179-b637-fa7866a33f26",
   "metadata": {},
   "outputs": [],
   "source": [
    "#import openai \n",
    "import os\n",
    "import pandas as pd \n",
    "import numpy as np \n",
    "import json\n",
    "import tiktoken\n",
    "#import psycopg2\n",
    "import ast\n",
    "import pgvector\n",
    "import math\n",
    "#from psycopg2.extras import execute_values \n",
    "#from pgvector.psycopg2 import register_vector"
   ]
  },
  {
   "cell_type": "markdown",
   "id": "fbb4fb0a-c7f4-4ef6-9055-1751d6473e53",
   "metadata": {
    "tags": []
   },
   "source": [
    "### Functions"
   ]
  },
  {
   "cell_type": "code",
   "execution_count": 8,
   "id": "ea6d8c4d-e892-4152-80ba-2f6a8562619e",
   "metadata": {},
   "outputs": [],
   "source": [
    "# Helper functions to help us create the embeddings\n",
    "# Helper func: calculate number of tokens\n",
    "def num_tokens_from_string(string: str, encoding_name=\"cl100k_base\") -> int:\n",
    "    if not string:\n",
    "        return 0\n",
    "\n",
    "    encoding = tiktoken.get_encoding(encoding_name)\n",
    "    num_tokens = len(encoding.encode(string))\n",
    "\n",
    "    return num_tokens"
   ]
  },
  {
   "cell_type": "code",
   "execution_count": 9,
   "id": "9c20627d-97d7-425b-be4d-15ed6e802764",
   "metadata": {},
   "outputs": [],
   "source": [
    "# Helper function: calculate length of essay \n",
    "def get_essay_length(essay):\n",
    "    word_list = essay.split() \n",
    "    num_words = len(word_list) \n",
    "    return num_words"
   ]
  },
  {
   "cell_type": "code",
   "execution_count": 10,
   "id": "6e11d7ae-f5cb-4cc4-9346-47a588e0189c",
   "metadata": {},
   "outputs": [],
   "source": [
    "# Helper function: calculate cost of embedding num_tokens \n",
    "# Assumes we're using the text-embedding-ada-002 model \n",
    "# See https://openai.com/pricing\n",
    "def get_embedding_cost(num_tokens):\n",
    "    return num_tokens/1000*0.0001"
   ]
  },
  {
   "cell_type": "code",
   "execution_count": 11,
   "id": "b992b234-4491-48c2-b41f-efd98a4ab121",
   "metadata": {},
   "outputs": [],
   "source": [
    "# Helper function: calculate total cost of embedding all content in the dataframe \n",
    "def get_total_embeddings_cost(df):\n",
    "    total_tokens = 0\n",
    "    for text in journals_df['Text']:\n",
    "        token_len = num_tokens_from_string(text)\n",
    "        total_tokens += token_len\n",
    "    total_cost = get_embedding_cost(total_tokens)\n",
    "    return total_cost"
   ]
  },
  {
   "cell_type": "markdown",
   "id": "ec8c1d00-db05-4a58-a810-9e9e179d120f",
   "metadata": {},
   "source": [
    "### Apply Functions"
   ]
  },
  {
   "cell_type": "code",
   "execution_count": 12,
   "id": "06da1434-36ff-467d-862b-26bdaf6bbeca",
   "metadata": {
    "tags": []
   },
   "outputs": [
    {
     "data": {
      "text/html": [
       "<div>\n",
       "<style scoped>\n",
       "    .dataframe tbody tr th:only-of-type {\n",
       "        vertical-align: middle;\n",
       "    }\n",
       "\n",
       "    .dataframe tbody tr th {\n",
       "        vertical-align: top;\n",
       "    }\n",
       "\n",
       "    .dataframe thead th {\n",
       "        text-align: right;\n",
       "    }\n",
       "</style>\n",
       "<table border=\"1\" class=\"dataframe\">\n",
       "  <thead>\n",
       "    <tr style=\"text-align: right;\">\n",
       "      <th></th>\n",
       "      <th>Journal</th>\n",
       "      <th>Title</th>\n",
       "      <th>Text</th>\n",
       "      <th>NumTokens</th>\n",
       "      <th>EssayLength</th>\n",
       "      <th>EmbeddingCost</th>\n",
       "    </tr>\n",
       "  </thead>\n",
       "  <tbody>\n",
       "    <tr>\n",
       "      <th>0</th>\n",
       "      <td>ACC</td>\n",
       "      <td>shen-et-al-2017-2017-acc-aha-hrs-guideline-for-the-evaluation-and-management-of-patients-with-syncope</td>\n",
       "      <td>CLINICAL PRACTICE GUIDELINE 2017 ACC/AHA/HRS Guideline for the Evaluation and Management of Patients With Syncope A Report of the American College of Cardiology/American Heart Association Task Force on Clinical Practice Guidelines and the Heart Rhythm Society Developed in Collaboration With the American College of Emergency Physicians and Society for Academic Emergency Medicine Endorsed by the Pediatric and Congenital Electrophysiology Society Writing Committee Members* Win-Kuang Shen, MD, F...</td>\n",
       "      <td>96818</td>\n",
       "      <td>54853</td>\n",
       "      <td>0.009682</td>\n",
       "    </tr>\n",
       "    <tr>\n",
       "      <th>1</th>\n",
       "      <td>ACC</td>\n",
       "      <td>gulati-et-al-2021-2021-aha-acc-ase-chest-saem-scct-scmr-guideline-for-the-evaluation-and-diagnosis-of-chest-pain</td>\n",
       "      <td>CLINICAL PRACTICE GUIDELINE: FULL TEXT 2021 AHA/ACC/ASE/CHEST/SAEM/ SCCT/SCMR Guideline for the Evaluation and Diagnosis of Chest Pain A Report of the American College of Cardiology/American Heart Association Joint Committee on Clinical Practice Guidelines Writing Committee Members* Martha Gulati, MD, MS, FACC, FAHA, Chairy Phillip D. Levy, MD, MPH, FACC, FAHA, Vice Chairy Debabrata Mukherjee, MD, MS, FACC, FAHA, Vice Chairy Ezra Amsterdam, MD, FACCy Deepak L. Bhatt, MD, MPH, FACC, FAHAy Kim...</td>\n",
       "      <td>127678</td>\n",
       "      <td>73972</td>\n",
       "      <td>0.012768</td>\n",
       "    </tr>\n",
       "    <tr>\n",
       "      <th>2</th>\n",
       "      <td>ACC</td>\n",
       "      <td>grundy-et-al-2018-2018-aha-acc-aacvpr-aapa-abc-acpm-ada-ags-apha-aspc-nla-pcna-guideline-on-the-management-of-blood</td>\n",
       "      <td>CLINICAL PRACTICE GUIDELINE 2018 AHA/ACC/AACVPR/AAPA/ ABC/ACPM/ADA/AGS/APhA/ASPC/ NLA/PCNA Guideline on the Management of Blood Cholesterol A Report of the American College of Cardiology/American Heart Association Task Force on Clinical Practice Guidelines Writing Committee Members Scott M. Grundy, MD, PHD, FAHA, Chair* Neil J. Stone, MD, FACC, FAHA, Vice Chair* Alison L. Bailey, MD, FACC, FAACVPRy Craig Beam, CRE* Kim K. Birtcher, MS, PHARMD, AACC, FNLAz Roger S. Blumenthal, MD, FACC, FAHA,...</td>\n",
       "      <td>101129</td>\n",
       "      <td>54412</td>\n",
       "      <td>0.010113</td>\n",
       "    </tr>\n",
       "  </tbody>\n",
       "</table>\n",
       "</div>"
      ],
      "text/plain": [
       "  Journal  \\\n",
       "0     ACC   \n",
       "1     ACC   \n",
       "2     ACC   \n",
       "\n",
       "                                                                                                                 Title  \\\n",
       "0                shen-et-al-2017-2017-acc-aha-hrs-guideline-for-the-evaluation-and-management-of-patients-with-syncope   \n",
       "1     gulati-et-al-2021-2021-aha-acc-ase-chest-saem-scct-scmr-guideline-for-the-evaluation-and-diagnosis-of-chest-pain   \n",
       "2  grundy-et-al-2018-2018-aha-acc-aacvpr-aapa-abc-acpm-ada-ags-apha-aspc-nla-pcna-guideline-on-the-management-of-blood   \n",
       "\n",
       "                                                                                                                                                                                                                                                                                                                                                                                                                                                                                                                  Text  \\\n",
       "0  CLINICAL PRACTICE GUIDELINE 2017 ACC/AHA/HRS Guideline for the Evaluation and Management of Patients With Syncope A Report of the American College of Cardiology/American Heart Association Task Force on Clinical Practice Guidelines and the Heart Rhythm Society Developed in Collaboration With the American College of Emergency Physicians and Society for Academic Emergency Medicine Endorsed by the Pediatric and Congenital Electrophysiology Society Writing Committee Members* Win-Kuang Shen, MD, F...   \n",
       "1  CLINICAL PRACTICE GUIDELINE: FULL TEXT 2021 AHA/ACC/ASE/CHEST/SAEM/ SCCT/SCMR Guideline for the Evaluation and Diagnosis of Chest Pain A Report of the American College of Cardiology/American Heart Association Joint Committee on Clinical Practice Guidelines Writing Committee Members* Martha Gulati, MD, MS, FACC, FAHA, Chairy Phillip D. Levy, MD, MPH, FACC, FAHA, Vice Chairy Debabrata Mukherjee, MD, MS, FACC, FAHA, Vice Chairy Ezra Amsterdam, MD, FACCy Deepak L. Bhatt, MD, MPH, FACC, FAHAy Kim...   \n",
       "2  CLINICAL PRACTICE GUIDELINE 2018 AHA/ACC/AACVPR/AAPA/ ABC/ACPM/ADA/AGS/APhA/ASPC/ NLA/PCNA Guideline on the Management of Blood Cholesterol A Report of the American College of Cardiology/American Heart Association Task Force on Clinical Practice Guidelines Writing Committee Members Scott M. Grundy, MD, PHD, FAHA, Chair* Neil J. Stone, MD, FACC, FAHA, Vice Chair* Alison L. Bailey, MD, FACC, FAACVPRy Craig Beam, CRE* Kim K. Birtcher, MS, PHARMD, AACC, FNLAz Roger S. Blumenthal, MD, FACC, FAHA,...   \n",
       "\n",
       "   NumTokens  EssayLength  EmbeddingCost  \n",
       "0      96818        54853       0.009682  \n",
       "1     127678        73972       0.012768  \n",
       "2     101129        54412       0.010113  "
      ]
     },
     "execution_count": 12,
     "metadata": {},
     "output_type": "execute_result"
    }
   ],
   "source": [
    "import tiktoken\n",
    "# Apply the num_tokens_from_string function to the 'Text' column\n",
    "journals_df['NumTokens'] = journals_df['Text'].apply(num_tokens_from_string)\n",
    "# Apply the get_essay_length function to the 'EssayLength' column\n",
    "journals_df['EssayLength'] = journals_df['Text'].apply(get_essay_length)\n",
    "# Apply the get_embedding_cost function to the 'EmbeddingCost' column\n",
    "journals_df['EmbeddingCost'] = journals_df['NumTokens'].apply(get_embedding_cost)\n",
    "\n",
    "\n",
    "# Display the DataFrame with the new 'NumTokens', 'EssayLength', 'EmbeddingCost' columns\n",
    "journals_df.head(3)\n"
   ]
  },
  {
   "cell_type": "code",
   "execution_count": 13,
   "id": "19933e08-21a9-4d51-9cbf-ff6915ff8935",
   "metadata": {},
   "outputs": [
    {
     "name": "stdout",
     "output_type": "stream",
     "text": [
      "estimated price to embed this content = $0.413\n"
     ]
    }
   ],
   "source": [
    "# quick check on total token amount for price estimation \n",
    "total_cost = get_total_embeddings_cost(journals_df)\n",
    "print(\"estimated price to embed this content = $\" + str(round(total_cost,3)))"
   ]
  },
  {
   "cell_type": "markdown",
   "id": "82b4d0dc-fd66-404d-a3fd-31d8f1c237dd",
   "metadata": {},
   "source": [
    "### Tokenization"
   ]
  },
  {
   "cell_type": "code",
   "execution_count": 14,
   "id": "af5930ed-93bc-4cfc-9d02-0de708eefb3a",
   "metadata": {},
   "outputs": [
    {
     "name": "stdout",
     "output_type": "stream",
     "text": [
      "Total Estimated Price: $ 0.404\n"
     ]
    }
   ],
   "source": [
    "total_cost = 0.0\n",
    "new_list = []\n",
    "ideal_token_size = 1024\n",
    "\n",
    "# Iterate through rows in the 'journals_df' DataFrame\n",
    "for i in range(len(journals_df.index)):\n",
    "    text = journals_df['Text'][i]\n",
    "    token_len = num_tokens_from_string(text)\n",
    "\n",
    "    if token_len <= ideal_token_size:\n",
    "        # If the text is less than or equal to 1024 tokens, add it directly to the new list\n",
    "        new_list.append([journals_df['Title'][i], text, journals_df['Journal'][i], token_len])\n",
    "        total_cost += get_embedding_cost(token_len)\n",
    "    else:\n",
    "        # If the text is longer, split it into chunks of approximately 1024 tokens\n",
    "        words = text.split()\n",
    "\n",
    "        # Remove empty spaces\n",
    "        words = [x for x in words if x != ' ']\n",
    "\n",
    "        # Calculate the number of chunks\n",
    "        num_chunks = len(words) // int(ideal_token_size * 0.75)  # Convert to integer\n",
    "\n",
    "        for j in range(num_chunks):\n",
    "            start = int(j * ideal_token_size * 0.75)\n",
    "            end = int((j + 1) * ideal_token_size * 0.75)\n",
    "\n",
    "            new_content = words[start:end]\n",
    "            new_content_string = ' '.join(new_content)\n",
    "            new_content_token_len = num_tokens_from_string(new_content_string)\n",
    "\n",
    "            if new_content_token_len > 0:\n",
    "                new_list.append([journals_df['Title'][i], new_content_string, journals_df['Journal'][i], new_content_token_len])\n",
    "                total_cost += get_embedding_cost(new_content_token_len)\n",
    "\n",
    "# Display the total estimated price\n",
    "print(\"Total Estimated Price: $\", round(total_cost,3))\n"
   ]
  },
  {
   "cell_type": "code",
   "execution_count": 15,
   "id": "9d6a14ab-be5c-4ff7-8875-ff995764b13e",
   "metadata": {},
   "outputs": [
    {
     "data": {
      "text/html": [
       "<div>\n",
       "<style scoped>\n",
       "    .dataframe tbody tr th:only-of-type {\n",
       "        vertical-align: middle;\n",
       "    }\n",
       "\n",
       "    .dataframe tbody tr th {\n",
       "        vertical-align: top;\n",
       "    }\n",
       "\n",
       "    .dataframe thead th {\n",
       "        text-align: right;\n",
       "    }\n",
       "</style>\n",
       "<table border=\"1\" class=\"dataframe\">\n",
       "  <thead>\n",
       "    <tr style=\"text-align: right;\">\n",
       "      <th></th>\n",
       "      <th>Journal</th>\n",
       "      <th>Title</th>\n",
       "      <th>Text</th>\n",
       "      <th>NumTokens</th>\n",
       "      <th>EssayLength</th>\n",
       "      <th>EmbeddingCost</th>\n",
       "    </tr>\n",
       "  </thead>\n",
       "  <tbody>\n",
       "    <tr>\n",
       "      <th>58</th>\n",
       "      <td>Society of Thoracic Surgeons</td>\n",
       "      <td>CredentialingofPractitionerstoPerformEndovascularStentGrafti</td>\n",
       "      <td>STS/AATS POSITION STATEMENT Guidelines for Credentialing of Practitioners to Perform Endovascular Stent-Grafting of the Thoracic Aorta Nicholas T. Kouchoukos, MD (Chair), Joseph E. Bavaria, MD, Joseph S. Coselli, MD, Ralph De La Torre, MD, John S. Ikonomidis, MD, Riyad C. Karmy-Jones, MD, Robert Scott Mitchell, MD, Richard J. Shemin, MD, David Spielvogel, MD, Lars G. Svensson, MD, and Grayson H. Wheatley, MD Task Force on Endovascular Surgery, Workforce on Adult Cardiac Surgery, Council on E...</td>\n",
       "      <td>2410</td>\n",
       "      <td>1579</td>\n",
       "      <td>0.000241</td>\n",
       "    </tr>\n",
       "    <tr>\n",
       "      <th>38</th>\n",
       "      <td>American Heart Association</td>\n",
       "      <td>meschia-et-al-2023-management-of-inherited-cns-small-vessel-diseases-the-cadasil-example-a-scientific-statement-from</td>\n",
       "      <td>Stroke is available at www.ahajournals.org/journal/str Stroke e452  October 2023  Stroke. 2023;54:e452–e464. DOI: 10.1161/STR.0000000000000444   © 2023 American Heart Association, Inc. AHA SCIENTIFIC STATEMENT Management of Inherited CNS Small Vessel  Diseases: The CADASIL Example: A Scientific  Statement From the American Heart Association James F. Meschia, MD, FAHA, Chair; Bradford B. Worrall, MD, MSc, FAHA, Vice Chair; Fanny M. Elahi, MD, PhD; Owen A. Ross, PhD;  Michael M. Wang, MD, PhD;...</td>\n",
       "      <td>21368</td>\n",
       "      <td>10345</td>\n",
       "      <td>0.002137</td>\n",
       "    </tr>\n",
       "    <tr>\n",
       "      <th>44</th>\n",
       "      <td>American Heart Association</td>\n",
       "      <td>perman-et-al-2023-temperature-management-for-comatose-adult-survivors-of-cardiac-arrest-a-science-advisory-from-the</td>\n",
       "      <td>Circulation September 19, 2023  Circulation. 2023;148:982–988. DOI: 10.1161/CIR.0000000000001164 Circulation is available at www.ahajournals.org/journal/circ 982   © 2023 American Heart Association, Inc. AHA SCIENCE ADVISORY Temperature Management for Comatose Adult  Survivors of Cardiac Arrest: A Science Advisory  From the American Heart Association Sarah M. Perman, MD, MSCE, FAHA, Vice Chair; Jason A. Bartos, MD, PhD, FAHA; Marina Del Rios, MD, MSc;   Michael W. Donnino, MD; Karen G. Hirsc...</td>\n",
       "      <td>9160</td>\n",
       "      <td>5155</td>\n",
       "      <td>0.000916</td>\n",
       "    </tr>\n",
       "    <tr>\n",
       "      <th>50</th>\n",
       "      <td>Society of Thoracic Surgeons</td>\n",
       "      <td>AorticValveandAscendingAortaGuidelinesforManagementandQualityMeasures</td>\n",
       "      <td>DOI: 10.1016/j.athoracsur.2013.01.083  Ann Thorac Surg 2013;95:1-66  Vinod H. Thourani, E. Murat Tuzcu, John Webb and Mathew R. Williams  Michael Reardon, T. Brett Reece, G. Russell Reiss, Eric E. Roselli, Craig R. Smith,  Kodali, Samir Kapadia, Martin B. Leon, Brian Lima, Bruce W. Lytle, Michael J. Mack, Dewey, Richard S. D'Agostino, Thomas G. Gleason, Katherine B. Harrington, Susheel  Joseph E. Bavaria, Eugene H. Blackstone, Tirone E. David, Nimesh D. Desai, Todd M. Craig Miller, Patrick T...</td>\n",
       "      <td>92825</td>\n",
       "      <td>56225</td>\n",
       "      <td>0.009283</td>\n",
       "    </tr>\n",
       "    <tr>\n",
       "      <th>14</th>\n",
       "      <td>ACC</td>\n",
       "      <td>ommen-et-al-2020-2020-aha-acc-guideline-for-the-diagnosis-and-treatment-of-patients-with-hypertrophic-cardiomyopathy</td>\n",
       "      <td>CLINICAL PRACTICE GUIDELINE 2020 AHA/ACC Guideline for the Diagnosis and Treatment of Patients With Hypertrophic Cardiomyopathy A Report of the American College of Cardiology/American Heart Association Joint Committee on Clinical Practice Guidelines Developed in collaboration with and endorsed by the American Association for Thoracic Surgery, American Society of Echocardiography, Heart Failure Society of America, Heart Rhythm Society, Society for Cardiovascular Angiography and Interventions,...</td>\n",
       "      <td>110626</td>\n",
       "      <td>64372</td>\n",
       "      <td>0.011063</td>\n",
       "    </tr>\n",
       "  </tbody>\n",
       "</table>\n",
       "</div>"
      ],
      "text/plain": [
       "                         Journal  \\\n",
       "58  Society of Thoracic Surgeons   \n",
       "38    American Heart Association   \n",
       "44    American Heart Association   \n",
       "50  Society of Thoracic Surgeons   \n",
       "14                           ACC   \n",
       "\n",
       "                                                                                                                   Title  \\\n",
       "58                                                          CredentialingofPractitionerstoPerformEndovascularStentGrafti   \n",
       "38  meschia-et-al-2023-management-of-inherited-cns-small-vessel-diseases-the-cadasil-example-a-scientific-statement-from   \n",
       "44   perman-et-al-2023-temperature-management-for-comatose-adult-survivors-of-cardiac-arrest-a-science-advisory-from-the   \n",
       "50                                                 AorticValveandAscendingAortaGuidelinesforManagementandQualityMeasures   \n",
       "14  ommen-et-al-2020-2020-aha-acc-guideline-for-the-diagnosis-and-treatment-of-patients-with-hypertrophic-cardiomyopathy   \n",
       "\n",
       "                                                                                                                                                                                                                                                                                                                                                                                                                                                                                                                   Text  \\\n",
       "58  STS/AATS POSITION STATEMENT Guidelines for Credentialing of Practitioners to Perform Endovascular Stent-Grafting of the Thoracic Aorta Nicholas T. Kouchoukos, MD (Chair), Joseph E. Bavaria, MD, Joseph S. Coselli, MD, Ralph De La Torre, MD, John S. Ikonomidis, MD, Riyad C. Karmy-Jones, MD, Robert Scott Mitchell, MD, Richard J. Shemin, MD, David Spielvogel, MD, Lars G. Svensson, MD, and Grayson H. Wheatley, MD Task Force on Endovascular Surgery, Workforce on Adult Cardiac Surgery, Council on E...   \n",
       "38  Stroke is available at www.ahajournals.org/journal/str Stroke e452  October 2023  Stroke. 2023;54:e452–e464. DOI: 10.1161/STR.0000000000000444   © 2023 American Heart Association, Inc. AHA SCIENTIFIC STATEMENT Management of Inherited CNS Small Vessel  Diseases: The CADASIL Example: A Scientific  Statement From the American Heart Association James F. Meschia, MD, FAHA, Chair; Bradford B. Worrall, MD, MSc, FAHA, Vice Chair; Fanny M. Elahi, MD, PhD; Owen A. Ross, PhD;  Michael M. Wang, MD, PhD;...   \n",
       "44  Circulation September 19, 2023  Circulation. 2023;148:982–988. DOI: 10.1161/CIR.0000000000001164 Circulation is available at www.ahajournals.org/journal/circ 982   © 2023 American Heart Association, Inc. AHA SCIENCE ADVISORY Temperature Management for Comatose Adult  Survivors of Cardiac Arrest: A Science Advisory  From the American Heart Association Sarah M. Perman, MD, MSCE, FAHA, Vice Chair; Jason A. Bartos, MD, PhD, FAHA; Marina Del Rios, MD, MSc;   Michael W. Donnino, MD; Karen G. Hirsc...   \n",
       "50  DOI: 10.1016/j.athoracsur.2013.01.083  Ann Thorac Surg 2013;95:1-66  Vinod H. Thourani, E. Murat Tuzcu, John Webb and Mathew R. Williams  Michael Reardon, T. Brett Reece, G. Russell Reiss, Eric E. Roselli, Craig R. Smith,  Kodali, Samir Kapadia, Martin B. Leon, Brian Lima, Bruce W. Lytle, Michael J. Mack, Dewey, Richard S. D'Agostino, Thomas G. Gleason, Katherine B. Harrington, Susheel  Joseph E. Bavaria, Eugene H. Blackstone, Tirone E. David, Nimesh D. Desai, Todd M. Craig Miller, Patrick T...   \n",
       "14  CLINICAL PRACTICE GUIDELINE 2020 AHA/ACC Guideline for the Diagnosis and Treatment of Patients With Hypertrophic Cardiomyopathy A Report of the American College of Cardiology/American Heart Association Joint Committee on Clinical Practice Guidelines Developed in collaboration with and endorsed by the American Association for Thoracic Surgery, American Society of Echocardiography, Heart Failure Society of America, Heart Rhythm Society, Society for Cardiovascular Angiography and Interventions,...   \n",
       "\n",
       "    NumTokens  EssayLength  EmbeddingCost  \n",
       "58       2410         1579       0.000241  \n",
       "38      21368        10345       0.002137  \n",
       "44       9160         5155       0.000916  \n",
       "50      92825        56225       0.009283  \n",
       "14     110626        64372       0.011063  "
      ]
     },
     "execution_count": 15,
     "metadata": {},
     "output_type": "execute_result"
    }
   ],
   "source": [
    "journals_df.sample(5)"
   ]
  },
  {
   "cell_type": "code",
   "execution_count": 145,
   "id": "e22096de-e830-4738-97e3-a963d76a4b10",
   "metadata": {},
   "outputs": [
    {
     "data": {
      "text/plain": [
       "2941"
      ]
     },
     "execution_count": 145,
     "metadata": {},
     "output_type": "execute_result"
    }
   ],
   "source": [
    "len(new_list) "
   ]
  },
  {
   "cell_type": "code",
   "execution_count": 16,
   "id": "9dab2a05-d258-4fbf-b379-511d7f55dcff",
   "metadata": {},
   "outputs": [
    {
     "data": {
      "text/html": [
       "<div>\n",
       "<style scoped>\n",
       "    .dataframe tbody tr th:only-of-type {\n",
       "        vertical-align: middle;\n",
       "    }\n",
       "\n",
       "    .dataframe tbody tr th {\n",
       "        vertical-align: top;\n",
       "    }\n",
       "\n",
       "    .dataframe thead th {\n",
       "        text-align: right;\n",
       "    }\n",
       "</style>\n",
       "<table border=\"1\" class=\"dataframe\">\n",
       "  <thead>\n",
       "    <tr style=\"text-align: right;\">\n",
       "      <th></th>\n",
       "      <th>title</th>\n",
       "      <th>text</th>\n",
       "      <th>journal</th>\n",
       "      <th>tokenLength</th>\n",
       "    </tr>\n",
       "  </thead>\n",
       "  <tbody>\n",
       "    <tr>\n",
       "      <th>0</th>\n",
       "      <td>shen-et-al-2017-2017-acc-aha-hrs-guideline-for-the-evaluation-and-management-of-patients-with-syncope</td>\n",
       "      <td>CLINICAL PRACTICE GUIDELINE 2017 ACC/AHA/HRS Guideline for the Evaluation and Management of Patients With Syncope A Report of the American College of Cardiology/American Heart Association Task Force on Clinical Practice Guidelines and the Heart Rhythm Society Developed in Collaboration With the American College of Emergency Physicians and Society for Academic Emergency Medicine Endorsed by the Pediatric and Congenital Electrophysiology Society Writing Committee Members* Win-Kuang Shen, MD, F...</td>\n",
       "      <td>ACC</td>\n",
       "      <td>1253</td>\n",
       "    </tr>\n",
       "    <tr>\n",
       "      <th>1</th>\n",
       "      <td>shen-et-al-2017-2017-acc-aha-hrs-guideline-for-the-evaluation-and-management-of-patients-with-syncope</td>\n",
       "      <td>PHD, RN, FAHA Duminda N. Wijeysundera, MD, PHD #Former Task Force member; current member during the writing effort. TABLE OF CONTENTS PREAMBLE . . . . . . . . . . . . . . . . . . . . . . . . . . . . . . . . . . . . . e41 1. INTRODUCTION . . . . . . . . . . . . . . . . . . . . . . . . . . . . . e43 1.1. Methodology and Evidence Review . . . . . . . . . . e43 1.2. Organization of the Writing Committee . . . . . . . e44 1.3. Document Review and Approval . . . . . . . . . . . . . e44 1.4. Scope ...</td>\n",
       "      <td>ACC</td>\n",
       "      <td>1183</td>\n",
       "    </tr>\n",
       "    <tr>\n",
       "      <th>2</th>\n",
       "      <td>shen-et-al-2017-2017-acc-aha-hrs-guideline-for-the-evaluation-and-management-of-patients-with-syncope</td>\n",
       "      <td>. . . e69 5. REFLEX CONDITIONS: RECOMMENDATIONS . . . . e70 5.1. Vasovagal Syncope: Recommendations . . . . . . . e70 Shen et al. J A C C V O L . 7 0 , N O . 5 , 2 0 1 7 2017 ACC/AHA/HRS Syncope Guideline A U G U S T 1 , 2 0 1 7 : e 3 9 – 1 1 0 e40 5.2. Pacemakers in Vasovagal Syncope: Recommendation . . . . . . . . . . . . . . . . . . . . . . . . . e72 5.3. Carotid Sinus Syndrome: Recommendations . . . e72 5.4. Other Reﬂex Conditions . . . . . . . . . . . . . . . . . . . . e73 6. ORTHOSTATI...</td>\n",
       "      <td>ACC</td>\n",
       "      <td>1074</td>\n",
       "    </tr>\n",
       "    <tr>\n",
       "      <th>3</th>\n",
       "      <td>shen-et-al-2017-2017-acc-aha-hrs-guideline-for-the-evaluation-and-management-of-patients-with-syncope</td>\n",
       "      <td>development and publication of guidelines without commercial support, and members of each organization volunteer their time to the writing and review efforts. Guidelines are ofﬁcial policy of the ACC and AHA. Intended Use Practice guidelines provide recommendations applicable to patients with or at risk of developing cardiovascular disease. The focus is on medical practice in the United States, but guidelines developed in collaboration with other organizations may have a global impact. Altho...</td>\n",
       "      <td>ACC</td>\n",
       "      <td>1010</td>\n",
       "    </tr>\n",
       "    <tr>\n",
       "      <th>4</th>\n",
       "      <td>shen-et-al-2017-2017-acc-aha-hrs-guideline-for-the-evaluation-and-management-of-patients-with-syncope</td>\n",
       "      <td>into actionable recommendations. ERC mem- bers may include methodologists, epidemiologists, healthcare providers, and biostatisticians. The recom- mendations developed by the writing committee on the basis of the systematic review are marked with “SR”. Guideline-Directed Management and Therapy The term guideline-directed management and therapy (GDMT) encompasses clinical evaluation, diagnostic testing, and pharmacological and procedural treatments. For these and all recommended drug treatmen...</td>\n",
       "      <td>ACC</td>\n",
       "      <td>1173</td>\n",
       "    </tr>\n",
       "    <tr>\n",
       "      <th>...</th>\n",
       "      <td>...</td>\n",
       "      <td>...</td>\n",
       "      <td>...</td>\n",
       "      <td>...</td>\n",
       "    </tr>\n",
       "    <tr>\n",
       "      <th>2936</th>\n",
       "      <td>AntibioticProphylaxisinCardiacSurgeryPartIDuration</td>\n",
       "      <td>No Sisto and colleagues [39] Finland 1994 551 Yes Ceftriaxone 2.9 Cefuroxime 2.9 48 Hours No Hall and colleagues [40] Australia 1993 1031 No Ceftriaxone 2.7 Flucloxacillin gentamycin 1.6 48 Hours No Beam and colleagues [41] United States 1984 94 Yes Ceftriaxone 4.1 Cefazolin 2.2 48 Hours No a Surgical site infections refers to the incidence of sternal infections, including mediastinitis and superﬁcial sternal wound infections. 399 Ann Thorac Surg WORKFORCE REPORT EDWARDS ET AL 2006;81:397–40...</td>\n",
       "      <td>Society of Thoracic Surgeons</td>\n",
       "      <td>1221</td>\n",
       "    </tr>\n",
       "    <tr>\n",
       "      <th>2937</th>\n",
       "      <td>AntibioticProphylaxisinCardiacSurgeryPartIDuration</td>\n",
       "      <td>There was no differ- ence in SSI between the groups. Geroulanos and col- leagues [45] compared a 2-day course of cefuroxime against a 4-day course of cefazolin in 569 randomized patients undergoing cardiac surgery in Switzerland. There was no statistically signiﬁcant difference between infectious complications in the two groups. In 1988, Jewell and colleagues [46] randomized 200 CABG pa- tients into a group receiving 48 hours of intravenous cephalothin or a group receiving 3 days of oral cep...</td>\n",
       "      <td>Society of Thoracic Surgeons</td>\n",
       "      <td>1153</td>\n",
       "    </tr>\n",
       "    <tr>\n",
       "      <th>2938</th>\n",
       "      <td>AntibioticProphylaxisinCardiacSurgeryPartIDuration</td>\n",
       "      <td>Surgery [56] Cephalosporin class of antimicrobials Data suggest that a 1-day course of intravenous antimicrobials is as efﬁcacious as the traditional 48-hour (or longer) regimen. American Society of Health-System Pharmacists Commission on Therapeutics [4] Cefazolin for up to 72 hours The duration is based on consensus of the expert panel because the data do not delineate the optimal duration of prophylaxis. Prophylaxis for 24 hours or less may be appropriate for cardiothoracic procedures. Ce...</td>\n",
       "      <td>Society of Thoracic Surgeons</td>\n",
       "      <td>1126</td>\n",
       "    </tr>\n",
       "    <tr>\n",
       "      <th>2939</th>\n",
       "      <td>AntibioticProphylaxisinCardiacSurgeryPartIDuration</td>\n",
       "      <td>tubes are removed [16]. The writing committee found no scientiﬁc evidence that this practice provides enhanced protection against infectious complications. To the con- trary, there is uniform agreement that this policy should not be followed [4, 24, 55]. CONCLUSION. The duration of antibiotic prophylaxis should not be dependent on indwelling catheters of any type. OPTIMAL PRACTICE. Decisions regarding the continuation of antibiotic prophylaxis are not guided by the presence of indwelling cat...</td>\n",
       "      <td>Society of Thoracic Surgeons</td>\n",
       "      <td>1254</td>\n",
       "    </tr>\n",
       "    <tr>\n",
       "      <th>2940</th>\n",
       "      <td>AntibioticProphylaxisinCardiacSurgeryPartIDuration</td>\n",
       "      <td>Lafreniere R, Berguer R, Seifert PC, et al. Preparation of the operating room. In: Wilmore DW, ed. ACS Surgery: princi- ples and practice 2004. New York, NY: WebMD, 2004: 12–3. 10. Kurz A, Sessler DI, Lenhardt R. Perioperative normothermia to reduce the incidence of surgical-wound infection and shorten hospitalization. N Engl J Med 1996;334:1209–15. 11. Meakins JL, Masterson BL. Prevention of postoperative infection. In Wilmore DW, ed. ACS Surgery: principles and practice 2004. New York NY: ...</td>\n",
       "      <td>Society of Thoracic Surgeons</td>\n",
       "      <td>1695</td>\n",
       "    </tr>\n",
       "  </tbody>\n",
       "</table>\n",
       "<p>2941 rows × 4 columns</p>\n",
       "</div>"
      ],
      "text/plain": [
       "                                                                                                      title  \\\n",
       "0     shen-et-al-2017-2017-acc-aha-hrs-guideline-for-the-evaluation-and-management-of-patients-with-syncope   \n",
       "1     shen-et-al-2017-2017-acc-aha-hrs-guideline-for-the-evaluation-and-management-of-patients-with-syncope   \n",
       "2     shen-et-al-2017-2017-acc-aha-hrs-guideline-for-the-evaluation-and-management-of-patients-with-syncope   \n",
       "3     shen-et-al-2017-2017-acc-aha-hrs-guideline-for-the-evaluation-and-management-of-patients-with-syncope   \n",
       "4     shen-et-al-2017-2017-acc-aha-hrs-guideline-for-the-evaluation-and-management-of-patients-with-syncope   \n",
       "...                                                                                                     ...   \n",
       "2936                                                     AntibioticProphylaxisinCardiacSurgeryPartIDuration   \n",
       "2937                                                     AntibioticProphylaxisinCardiacSurgeryPartIDuration   \n",
       "2938                                                     AntibioticProphylaxisinCardiacSurgeryPartIDuration   \n",
       "2939                                                     AntibioticProphylaxisinCardiacSurgeryPartIDuration   \n",
       "2940                                                     AntibioticProphylaxisinCardiacSurgeryPartIDuration   \n",
       "\n",
       "                                                                                                                                                                                                                                                                                                                                                                                                                                                                                                                     text  \\\n",
       "0     CLINICAL PRACTICE GUIDELINE 2017 ACC/AHA/HRS Guideline for the Evaluation and Management of Patients With Syncope A Report of the American College of Cardiology/American Heart Association Task Force on Clinical Practice Guidelines and the Heart Rhythm Society Developed in Collaboration With the American College of Emergency Physicians and Society for Academic Emergency Medicine Endorsed by the Pediatric and Congenital Electrophysiology Society Writing Committee Members* Win-Kuang Shen, MD, F...   \n",
       "1     PHD, RN, FAHA Duminda N. Wijeysundera, MD, PHD #Former Task Force member; current member during the writing effort. TABLE OF CONTENTS PREAMBLE . . . . . . . . . . . . . . . . . . . . . . . . . . . . . . . . . . . . . e41 1. INTRODUCTION . . . . . . . . . . . . . . . . . . . . . . . . . . . . . e43 1.1. Methodology and Evidence Review . . . . . . . . . . e43 1.2. Organization of the Writing Committee . . . . . . . e44 1.3. Document Review and Approval . . . . . . . . . . . . . e44 1.4. Scope ...   \n",
       "2     . . . e69 5. REFLEX CONDITIONS: RECOMMENDATIONS . . . . e70 5.1. Vasovagal Syncope: Recommendations . . . . . . . e70 Shen et al. J A C C V O L . 7 0 , N O . 5 , 2 0 1 7 2017 ACC/AHA/HRS Syncope Guideline A U G U S T 1 , 2 0 1 7 : e 3 9 – 1 1 0 e40 5.2. Pacemakers in Vasovagal Syncope: Recommendation . . . . . . . . . . . . . . . . . . . . . . . . . e72 5.3. Carotid Sinus Syndrome: Recommendations . . . e72 5.4. Other Reﬂex Conditions . . . . . . . . . . . . . . . . . . . . e73 6. ORTHOSTATI...   \n",
       "3     development and publication of guidelines without commercial support, and members of each organization volunteer their time to the writing and review efforts. Guidelines are ofﬁcial policy of the ACC and AHA. Intended Use Practice guidelines provide recommendations applicable to patients with or at risk of developing cardiovascular disease. The focus is on medical practice in the United States, but guidelines developed in collaboration with other organizations may have a global impact. Altho...   \n",
       "4     into actionable recommendations. ERC mem- bers may include methodologists, epidemiologists, healthcare providers, and biostatisticians. The recom- mendations developed by the writing committee on the basis of the systematic review are marked with “SR”. Guideline-Directed Management and Therapy The term guideline-directed management and therapy (GDMT) encompasses clinical evaluation, diagnostic testing, and pharmacological and procedural treatments. For these and all recommended drug treatmen...   \n",
       "...                                                                                                                                                                                                                                                                                                                                                                                                                                                                                                                   ...   \n",
       "2936  No Sisto and colleagues [39] Finland 1994 551 Yes Ceftriaxone 2.9 Cefuroxime 2.9 48 Hours No Hall and colleagues [40] Australia 1993 1031 No Ceftriaxone 2.7 Flucloxacillin gentamycin 1.6 48 Hours No Beam and colleagues [41] United States 1984 94 Yes Ceftriaxone 4.1 Cefazolin 2.2 48 Hours No a Surgical site infections refers to the incidence of sternal infections, including mediastinitis and superﬁcial sternal wound infections. 399 Ann Thorac Surg WORKFORCE REPORT EDWARDS ET AL 2006;81:397–40...   \n",
       "2937  There was no differ- ence in SSI between the groups. Geroulanos and col- leagues [45] compared a 2-day course of cefuroxime against a 4-day course of cefazolin in 569 randomized patients undergoing cardiac surgery in Switzerland. There was no statistically signiﬁcant difference between infectious complications in the two groups. In 1988, Jewell and colleagues [46] randomized 200 CABG pa- tients into a group receiving 48 hours of intravenous cephalothin or a group receiving 3 days of oral cep...   \n",
       "2938  Surgery [56] Cephalosporin class of antimicrobials Data suggest that a 1-day course of intravenous antimicrobials is as efﬁcacious as the traditional 48-hour (or longer) regimen. American Society of Health-System Pharmacists Commission on Therapeutics [4] Cefazolin for up to 72 hours The duration is based on consensus of the expert panel because the data do not delineate the optimal duration of prophylaxis. Prophylaxis for 24 hours or less may be appropriate for cardiothoracic procedures. Ce...   \n",
       "2939  tubes are removed [16]. The writing committee found no scientiﬁc evidence that this practice provides enhanced protection against infectious complications. To the con- trary, there is uniform agreement that this policy should not be followed [4, 24, 55]. CONCLUSION. The duration of antibiotic prophylaxis should not be dependent on indwelling catheters of any type. OPTIMAL PRACTICE. Decisions regarding the continuation of antibiotic prophylaxis are not guided by the presence of indwelling cat...   \n",
       "2940  Lafreniere R, Berguer R, Seifert PC, et al. Preparation of the operating room. In: Wilmore DW, ed. ACS Surgery: princi- ples and practice 2004. New York, NY: WebMD, 2004: 12–3. 10. Kurz A, Sessler DI, Lenhardt R. Perioperative normothermia to reduce the incidence of surgical-wound infection and shorten hospitalization. N Engl J Med 1996;334:1209–15. 11. Meakins JL, Masterson BL. Prevention of postoperative infection. In Wilmore DW, ed. ACS Surgery: principles and practice 2004. New York NY: ...   \n",
       "\n",
       "                           journal  tokenLength  \n",
       "0                              ACC         1253  \n",
       "1                              ACC         1183  \n",
       "2                              ACC         1074  \n",
       "3                              ACC         1010  \n",
       "4                              ACC         1173  \n",
       "...                            ...          ...  \n",
       "2936  Society of Thoracic Surgeons         1221  \n",
       "2937  Society of Thoracic Surgeons         1153  \n",
       "2938  Society of Thoracic Surgeons         1126  \n",
       "2939  Society of Thoracic Surgeons         1254  \n",
       "2940  Society of Thoracic Surgeons         1695  \n",
       "\n",
       "[2941 rows x 4 columns]"
      ]
     },
     "execution_count": 16,
     "metadata": {},
     "output_type": "execute_result"
    }
   ],
   "source": [
    "token_df = pd.DataFrame(new_list, columns = ['title', 'text','journal','tokenLength'])\n",
    "token_df"
   ]
  },
  {
   "cell_type": "code",
   "execution_count": 24,
   "id": "44a89f7c-267d-4735-a7f2-dd980ee4d49b",
   "metadata": {},
   "outputs": [],
   "source": [
    "# Save the DataFrame to a CSV file\n",
    "#token_df.to_csv('token_data.csv', index=False)"
   ]
  },
  {
   "cell_type": "code",
   "execution_count": 4,
   "id": "e12886e5-a350-4f52-9dc7-c87f22f18a58",
   "metadata": {},
   "outputs": [],
   "source": [
    "# Read the data from the CSV file into a DataFrame\n",
    "#token_df = pd.read_csv('token_data.csv')"
   ]
  },
  {
   "cell_type": "markdown",
   "id": "e73388b8-aa02-4524-8268-89a5df53f0f7",
   "metadata": {
    "tags": []
   },
   "source": [
    "# Embeddings Transformer"
   ]
  },
  {
   "cell_type": "markdown",
   "id": "08e69928-a78b-4b77-bbbe-491819392a19",
   "metadata": {
    "tags": []
   },
   "source": [
    "### Simple Example\n"
   ]
  },
  {
   "cell_type": "code",
   "execution_count": 27,
   "id": "e1b3ef0f-c4ff-4337-8235-fffc73611de2",
   "metadata": {},
   "outputs": [],
   "source": [
    "import warnings\n",
    "warnings.filterwarnings(\"ignore\")"
   ]
  },
  {
   "cell_type": "code",
   "execution_count": 23,
   "id": "01ada7c1-370a-4ac2-811d-88dfb728d73c",
   "metadata": {},
   "outputs": [
    {
     "name": "stdout",
     "output_type": "stream",
     "text": [
      "[[-0.54902166 -0.00991799 -0.2637591  ... -0.15789218 -1.2998055\n",
      "   0.80934805]\n",
      " [-1.0420783   0.789706    0.5180276  ... -0.5906364  -1.0819337\n",
      "   0.50429845]]\n"
     ]
    }
   ],
   "source": [
    "from sentence_transformers import SentenceTransformer\n",
    "sentences = [\"This is an example sentence\", \"Each sentence is converted\"]\n",
    "\n",
    "model = SentenceTransformer(\"neuml/pubmedbert-base-embeddings\")\n",
    "embeddings = model.encode(sentences)\n",
    "print(embeddings)"
   ]
  },
  {
   "cell_type": "code",
   "execution_count": 25,
   "id": "73a2c22a-9e70-4037-ac14-8b261075ea21",
   "metadata": {},
   "outputs": [
    {
     "data": {
      "text/plain": [
       "(2, 768)"
      ]
     },
     "execution_count": 25,
     "metadata": {},
     "output_type": "execute_result"
    }
   ],
   "source": [
    "embeddings.shape"
   ]
  },
  {
   "cell_type": "markdown",
   "id": "f43dd64c-6177-4d18-8d06-c2960a3c0a1e",
   "metadata": {},
   "source": [
    "### Helper Function"
   ]
  },
  {
   "cell_type": "code",
   "execution_count": 62,
   "id": "301a1c29-c205-4661-bfba-af5ab7dcd025",
   "metadata": {},
   "outputs": [
    {
     "name": "stderr",
     "output_type": "stream",
     "text": [
      "/Users/sheldonsutton/opt/anaconda3/lib/python3.9/site-packages/torch/_utils.py:776: UserWarning: TypedStorage is deprecated. It will be removed in the future and UntypedStorage will be the only storage class. This should only matter to you if you are using storages directly.  To access UntypedStorage directly, use tensor.untyped_storage() instead of tensor.storage()\n",
      "  return self.fget.__get__(instance, owner)()\n"
     ]
    }
   ],
   "source": [
    "from sentence_transformers import SentenceTransformer\n",
    "model = SentenceTransformer(\"neuml/pubmedbert-base-embeddings\")\n",
    "\n",
    "# Function to get embeddings for a given text\n",
    "def get_embeddings(text):\n",
    "    return model.encode([text])"
   ]
  },
  {
   "cell_type": "markdown",
   "id": "45689aef-df4e-4067-85fc-ffec79c6a9a7",
   "metadata": {
    "jp-MarkdownHeadingCollapsed": true,
    "tags": []
   },
   "source": [
    "### DF example"
   ]
  },
  {
   "cell_type": "code",
   "execution_count": 14,
   "id": "c9b1ef62-2df2-486d-84c1-34eb7b5ca2c2",
   "metadata": {},
   "outputs": [
    {
     "data": {
      "text/html": [
       "<div>\n",
       "<style scoped>\n",
       "    .dataframe tbody tr th:only-of-type {\n",
       "        vertical-align: middle;\n",
       "    }\n",
       "\n",
       "    .dataframe tbody tr th {\n",
       "        vertical-align: top;\n",
       "    }\n",
       "\n",
       "    .dataframe thead th {\n",
       "        text-align: right;\n",
       "    }\n",
       "</style>\n",
       "<table border=\"1\" class=\"dataframe\">\n",
       "  <thead>\n",
       "    <tr style=\"text-align: right;\">\n",
       "      <th></th>\n",
       "      <th>Title</th>\n",
       "      <th>Text</th>\n",
       "      <th>Journal</th>\n",
       "      <th>TokenLength</th>\n",
       "    </tr>\n",
       "  </thead>\n",
       "  <tbody>\n",
       "    <tr>\n",
       "      <th>0</th>\n",
       "      <td>Title1</td>\n",
       "      <td>Text1</td>\n",
       "      <td>Journal1</td>\n",
       "      <td>100</td>\n",
       "    </tr>\n",
       "    <tr>\n",
       "      <th>1</th>\n",
       "      <td>Title2</td>\n",
       "      <td>Text2</td>\n",
       "      <td>Journal2</td>\n",
       "      <td>150</td>\n",
       "    </tr>\n",
       "    <tr>\n",
       "      <th>2</th>\n",
       "      <td>Title1</td>\n",
       "      <td>Text3</td>\n",
       "      <td>Journal3</td>\n",
       "      <td>80</td>\n",
       "    </tr>\n",
       "    <tr>\n",
       "      <th>3</th>\n",
       "      <td>Title3</td>\n",
       "      <td>Text4</td>\n",
       "      <td>Journal4</td>\n",
       "      <td>120</td>\n",
       "    </tr>\n",
       "  </tbody>\n",
       "</table>\n",
       "</div>"
      ],
      "text/plain": [
       "    Title   Text   Journal  TokenLength\n",
       "0  Title1  Text1  Journal1          100\n",
       "1  Title2  Text2  Journal2          150\n",
       "2  Title1  Text3  Journal3           80\n",
       "3  Title3  Text4  Journal4          120"
      ]
     },
     "execution_count": 14,
     "metadata": {},
     "output_type": "execute_result"
    }
   ],
   "source": [
    "#Example DataFrame structure\n",
    "token_test = pd.DataFrame({\n",
    "    'Title': ['Title1', 'Title2', 'Title1', 'Title3'],\n",
    "    'Text': ['Text1', 'Text2', 'Text3', 'Text4'],\n",
    "    'Journal': ['Journal1', 'Journal2', 'Journal3', 'Journal4'],\n",
    "    'TokenLength': [100, 150, 80, 120]\n",
    "})\n",
    "token_test"
   ]
  },
  {
   "cell_type": "code",
   "execution_count": 16,
   "id": "4b7afc02-db03-4a2a-aa9e-63b22aaf46d6",
   "metadata": {},
   "outputs": [
    {
     "data": {
      "text/plain": [
       "0    [[-0.34269476, 0.22396612, -0.39297545, -0.5840893, -0.29564363, 0.39713198, 0.058310296, -0.37871805, 0.09129639, -0.33860853, 0.12316477, 0.21731886, -0.080019265, -0.5096862, -1.383059, -0.50511414, -0.7472632, -0.41175932, -0.8023629, 0.863835, 0.17570278, 0.4570406, -1.0481806, -0.33272225, 1.482028, -0.46649534, -0.31816965, 0.40699726, -0.39038014, 0.9384389, -0.73542595, 0.22658761, -0.7853, -0.026946098, -0.7854873, -0.09198919, 0.66320056, 0.5490468, 1.5014609, 0.30245855, 0.064644...\n",
       "1    [[-0.3205153, 0.2158633, -0.309447, -0.45649132, -0.2678013, 0.36074597, 0.2471737, -0.33655283, 0.031112397, -0.36891162, 0.16731533, 0.25502813, -0.045056507, -0.38582173, -1.4026335, -0.66704446, -0.7367033, -0.42078236, -0.7827431, 0.5990229, 0.37577748, 0.32353404, -1.1156484, -0.24333572, 1.3602757, -0.5134183, -0.053586997, 0.43070912, -0.43484792, 0.7828852, -0.89400333, 0.069375366, -0.9891583, 0.10668503, -0.6152518, -0.1414635, 0.4736438, 0.4884441, 1.2887976, 0.38410527, 0.062905...\n",
       "2    [[-0.40354788, 0.31234986, -0.37783682, -0.53036845, -0.27311468, 0.32265258, 0.08636353, -0.39653242, -0.073448375, -0.4027092, 0.16617614, 0.37595508, -0.1763839, -0.53843343, -1.5439819, -0.52577263, -0.71631235, -0.24931177, -0.6658453, 0.87467134, 0.2922694, 0.3199929, -1.146452, -0.30215853, 1.3516785, -0.34536943, -0.068935096, 0.29376113, -0.2686519, 0.7799464, -0.74980766, -0.12711988, -1.0801513, -0.18814746, -0.59355277, -0.13864763, 0.61576563, 0.31630218, 1.3089538, 0.26699856, ...\n",
       "3    [[-0.38247547, 0.50070626, -0.29971865, -0.49472633, -0.120658726, 0.339245, 0.0008049775, -0.3624093, -0.14781974, -0.4428549, 0.07258711, 0.36061865, -0.25488305, -0.39933372, -1.4128128, -0.42162153, -0.95595664, -0.22891024, -0.7468022, 0.6884015, 0.3286905, 0.35151592, -1.0227147, -0.32715493, 1.1026194, -0.48550752, -0.01361471, 0.15715031, -0.43051603, 0.76672053, -0.62523955, -0.14828108, -1.1317261, -0.117872395, -0.7175894, -0.3452744, 0.5511874, 0.70160526, 0.9151445, 0.3392036, -...\n",
       "Name: Text, dtype: object"
      ]
     },
     "execution_count": 16,
     "metadata": {},
     "output_type": "execute_result"
    }
   ],
   "source": [
    "token_test['Text'].apply(get_embeddings)"
   ]
  },
  {
   "cell_type": "markdown",
   "id": "37f8b010-54fe-40e7-a895-69a99bd32958",
   "metadata": {},
   "source": [
    "### Apply to token_df RUNS FOR A WHILE"
   ]
  },
  {
   "cell_type": "code",
   "execution_count": 63,
   "id": "9b5125c5-4259-4114-86f5-96b3d3d22090",
   "metadata": {
    "tags": []
   },
   "outputs": [],
   "source": [
    "# Apply the function to the 'Text' column of token_df\n",
    "token_df['Embeddings'] = token_df['text'].apply(get_embeddings)\n"
   ]
  },
  {
   "cell_type": "code",
   "execution_count": 64,
   "id": "1e84c2ef-9c89-4d72-80ad-1a722d9f662b",
   "metadata": {},
   "outputs": [],
   "source": [
    "# Save the DataFrame to a CSV file\n",
    "token_df.to_csv('xxtoken_data_embed.csv', index=False)"
   ]
  },
  {
   "cell_type": "code",
   "execution_count": 65,
   "id": "245d52fe-7130-4d5e-bdf9-72c9b809c4ce",
   "metadata": {},
   "outputs": [],
   "source": [
    "xxx = pd.read_csv('xxtoken_data_embed.csv')"
   ]
  },
  {
   "cell_type": "code",
   "execution_count": 66,
   "id": "f2c446ca-e9dd-459b-a1a5-85a505978d97",
   "metadata": {},
   "outputs": [
    {
     "data": {
      "text/html": [
       "<div>\n",
       "<style scoped>\n",
       "    .dataframe tbody tr th:only-of-type {\n",
       "        vertical-align: middle;\n",
       "    }\n",
       "\n",
       "    .dataframe tbody tr th {\n",
       "        vertical-align: top;\n",
       "    }\n",
       "\n",
       "    .dataframe thead th {\n",
       "        text-align: right;\n",
       "    }\n",
       "</style>\n",
       "<table border=\"1\" class=\"dataframe\">\n",
       "  <thead>\n",
       "    <tr style=\"text-align: right;\">\n",
       "      <th></th>\n",
       "      <th>title</th>\n",
       "      <th>text</th>\n",
       "      <th>journal</th>\n",
       "      <th>tokenLength</th>\n",
       "      <th>Embeddings</th>\n",
       "    </tr>\n",
       "  </thead>\n",
       "  <tbody>\n",
       "    <tr>\n",
       "      <th>1923</th>\n",
       "      <td>abdalla-et-al-2023-implementation-strategies-to-improve-blood-pressure-control-in-the-united-states-a-scientific</td>\n",
       "      <td>mitigation efforts can be paired with multilevel strategies that support wider adoption of evidence-based inter- ventions for BP control to increase access to high- quality health care services within communities. • Accurate BP measurement and increased use of SMBP monitoring – Increase and synergize efforts to educate and train clinicians and patients in how to select validated BP measurement devices and to measure BP accu- rately inside and outside of the office setting – Increase the use ...</td>\n",
       "      <td>American Heart Association</td>\n",
       "      <td>1051</td>\n",
       "      <td>[[-3.06179702e-01  3.85651082e-01 -2.64884740e-01 -3.00773293e-01\\n  -1.97745889e-01  2.44078264e-01 -7.20645785e-01  1.26247443e-02\\n  -7.91457817e-02 -1.09105849e+00  5.29329598e-01 -1.32602900e-01\\n   7.84991160e-02 -8.33393097e-01 -4.56297040e-01  1.02011852e-01\\n   2.89022148e-01  3.73335391e-01  2.93962121e-01  8.51432383e-01\\n  -5.04455745e-01 -2.73868740e-01 -1.48879409e-01 -6.35170341e-01\\n   5.93232214e-01 -8.74805972e-02  3.13392848e-01 -9.63422000e-01\\n  -1.10025913e-01  5.186662...</td>\n",
       "    </tr>\n",
       "  </tbody>\n",
       "</table>\n",
       "</div>"
      ],
      "text/plain": [
       "                                                                                                                 title  \\\n",
       "1923  abdalla-et-al-2023-implementation-strategies-to-improve-blood-pressure-control-in-the-united-states-a-scientific   \n",
       "\n",
       "                                                                                                                                                                                                                                                                                                                                                                                                                                                                                                                     text  \\\n",
       "1923  mitigation efforts can be paired with multilevel strategies that support wider adoption of evidence-based inter- ventions for BP control to increase access to high- quality health care services within communities. • Accurate BP measurement and increased use of SMBP monitoring – Increase and synergize efforts to educate and train clinicians and patients in how to select validated BP measurement devices and to measure BP accu- rately inside and outside of the office setting – Increase the use ...   \n",
       "\n",
       "                         journal tokenLength  \\\n",
       "1923  American Heart Association        1051   \n",
       "\n",
       "                                                                                                                                                                                                                                                                                                                                                                                                                                                                                                               Embeddings  \n",
       "1923  [[-3.06179702e-01  3.85651082e-01 -2.64884740e-01 -3.00773293e-01\\n  -1.97745889e-01  2.44078264e-01 -7.20645785e-01  1.26247443e-02\\n  -7.91457817e-02 -1.09105849e+00  5.29329598e-01 -1.32602900e-01\\n   7.84991160e-02 -8.33393097e-01 -4.56297040e-01  1.02011852e-01\\n   2.89022148e-01  3.73335391e-01  2.93962121e-01  8.51432383e-01\\n  -5.04455745e-01 -2.73868740e-01 -1.48879409e-01 -6.35170341e-01\\n   5.93232214e-01 -8.74805972e-02  3.13392848e-01 -9.63422000e-01\\n  -1.10025913e-01  5.186662...  "
      ]
     },
     "execution_count": 66,
     "metadata": {},
     "output_type": "execute_result"
    }
   ],
   "source": [
    "pd.DataFrame(xxx.iloc[1923]).T"
   ]
  },
  {
   "cell_type": "code",
   "execution_count": null,
   "id": "7b6c7d5f-aaaa-4062-b83c-d0afedc44a53",
   "metadata": {},
   "outputs": [],
   "source": [
    "# Saving as Parquet requires squeeze\n",
    "# token_df['Column1'] = token_df['Column1'].apply(lambda x: np.squeeze(x))"
   ]
  },
  {
   "cell_type": "code",
   "execution_count": 205,
   "id": "98c0d776-443e-43da-a5f7-20fc3414e8e6",
   "metadata": {},
   "outputs": [],
   "source": [
    "token_df.to_parquet('token_data_embed.parquet')\n",
    "# df_read = pd.read_csv('output.csv', converters={'Column2': lambda x: np.array(x.split(';')).astype(float)})"
   ]
  },
  {
   "cell_type": "markdown",
   "id": "c8b025b7-1eb2-4f42-80c9-c907a9f09bb1",
   "metadata": {},
   "source": [
    "# Import Parquet with Embedding Formatting\n"
   ]
  },
  {
   "cell_type": "code",
   "execution_count": 72,
   "id": "b94ae006-9101-44fd-b0b4-67e3d9e86e37",
   "metadata": {},
   "outputs": [
    {
     "data": {
      "text/html": [
       "<div>\n",
       "<style scoped>\n",
       "    .dataframe tbody tr th:only-of-type {\n",
       "        vertical-align: middle;\n",
       "    }\n",
       "\n",
       "    .dataframe tbody tr th {\n",
       "        vertical-align: top;\n",
       "    }\n",
       "\n",
       "    .dataframe thead th {\n",
       "        text-align: right;\n",
       "    }\n",
       "</style>\n",
       "<table border=\"1\" class=\"dataframe\">\n",
       "  <thead>\n",
       "    <tr style=\"text-align: right;\">\n",
       "      <th></th>\n",
       "      <th>title</th>\n",
       "      <th>text</th>\n",
       "      <th>journal</th>\n",
       "      <th>tokenLength</th>\n",
       "      <th>Embeddings</th>\n",
       "    </tr>\n",
       "  </thead>\n",
       "  <tbody>\n",
       "    <tr>\n",
       "      <th>0</th>\n",
       "      <td>shen-et-al-2017-2017-acc-aha-hrs-guideline-for-the-evaluation-and-management-of-patients-with-syncope</td>\n",
       "      <td>CLINICAL PRACTICE GUIDELINE 2017 ACC/AHA/HRS Guideline for the Evaluation and Management of Patients With Syncope A Report of the American College of Cardiology/American Heart Association Task Force on Clinical Practice Guidelines and the Heart Rhythm Society Developed in Collaboration With the American College of Emergency Physicians and Society for Academic Emergency Medicine Endorsed by the Pediatric and Congenital Electrophysiology Society Writing Committee Members* Win-Kuang Shen, MD, F...</td>\n",
       "      <td>ACC</td>\n",
       "      <td>1253</td>\n",
       "      <td>[-0.7635219, 0.028012963, -0.2274014, -1.2573576, -0.42328897, 0.6349173, 0.03296693, -0.24082562, -0.46529308, -1.5539907, -0.009345492, 1.0497372, -0.15796132, -0.38976455, -0.82200634, 0.42113262, 0.39703044, 0.41187605, 0.53316236, 0.9349648, -0.032043707, -0.511867, -0.36021292, 0.13832396, 1.0502408, 0.48061788, -0.15158539, -0.35105857, -0.71472317, -0.08860559, -0.38612437, -0.5157135, -0.18839104, 0.18588898, -0.09911649, -0.01646175, 0.15159963, 0.2816479, -0.49376765, -0.66066873,...</td>\n",
       "    </tr>\n",
       "  </tbody>\n",
       "</table>\n",
       "</div>"
      ],
      "text/plain": [
       "                                                                                                   title  \\\n",
       "0  shen-et-al-2017-2017-acc-aha-hrs-guideline-for-the-evaluation-and-management-of-patients-with-syncope   \n",
       "\n",
       "                                                                                                                                                                                                                                                                                                                                                                                                                                                                                                                  text  \\\n",
       "0  CLINICAL PRACTICE GUIDELINE 2017 ACC/AHA/HRS Guideline for the Evaluation and Management of Patients With Syncope A Report of the American College of Cardiology/American Heart Association Task Force on Clinical Practice Guidelines and the Heart Rhythm Society Developed in Collaboration With the American College of Emergency Physicians and Society for Academic Emergency Medicine Endorsed by the Pediatric and Congenital Electrophysiology Society Writing Committee Members* Win-Kuang Shen, MD, F...   \n",
       "\n",
       "  journal  tokenLength  \\\n",
       "0     ACC         1253   \n",
       "\n",
       "                                                                                                                                                                                                                                                                                                                                                                                                                                                                                                            Embeddings  \n",
       "0  [-0.7635219, 0.028012963, -0.2274014, -1.2573576, -0.42328897, 0.6349173, 0.03296693, -0.24082562, -0.46529308, -1.5539907, -0.009345492, 1.0497372, -0.15796132, -0.38976455, -0.82200634, 0.42113262, 0.39703044, 0.41187605, 0.53316236, 0.9349648, -0.032043707, -0.511867, -0.36021292, 0.13832396, 1.0502408, 0.48061788, -0.15158539, -0.35105857, -0.71472317, -0.08860559, -0.38612437, -0.5157135, -0.18839104, 0.18588898, -0.09911649, -0.01646175, 0.15159963, 0.2816479, -0.49376765, -0.66066873,...  "
      ]
     },
     "execution_count": 72,
     "metadata": {},
     "output_type": "execute_result"
    }
   ],
   "source": [
    "token_df = pd.read_parquet('token_data_embed.parquet')\n",
    "token_df.head(1)"
   ]
  },
  {
   "cell_type": "markdown",
   "id": "c655548a-eb27-4ae5-b097-381134167991",
   "metadata": {},
   "source": [
    "# Testing Questions with Embeddings"
   ]
  },
  {
   "cell_type": "code",
   "execution_count": 14,
   "id": "e188d652-8581-4874-b9d3-90aa3c923ea1",
   "metadata": {},
   "outputs": [
    {
     "data": {
      "text/plain": [
       "(2941, 5)"
      ]
     },
     "execution_count": 14,
     "metadata": {},
     "output_type": "execute_result"
    }
   ],
   "source": [
    "token_df.shape"
   ]
  },
  {
   "cell_type": "code",
   "execution_count": 54,
   "id": "d101bdb2-a10d-4b03-acb5-f88faee9b3c0",
   "metadata": {},
   "outputs": [
    {
     "data": {
      "text/html": [
       "<div>\n",
       "<style scoped>\n",
       "    .dataframe tbody tr th:only-of-type {\n",
       "        vertical-align: middle;\n",
       "    }\n",
       "\n",
       "    .dataframe tbody tr th {\n",
       "        vertical-align: top;\n",
       "    }\n",
       "\n",
       "    .dataframe thead th {\n",
       "        text-align: right;\n",
       "    }\n",
       "</style>\n",
       "<table border=\"1\" class=\"dataframe\">\n",
       "  <thead>\n",
       "    <tr style=\"text-align: right;\">\n",
       "      <th></th>\n",
       "      <th>title</th>\n",
       "      <th>text</th>\n",
       "      <th>journal</th>\n",
       "      <th>tokenLength</th>\n",
       "      <th>Embeddings</th>\n",
       "    </tr>\n",
       "  </thead>\n",
       "  <tbody>\n",
       "    <tr>\n",
       "      <th>1923</th>\n",
       "      <td>abdalla-et-al-2023-implementation-strategies-to-improve-blood-pressure-control-in-the-united-states-a-scientific</td>\n",
       "      <td>mitigation efforts can be paired with multilevel strategies that support wider adoption of evidence-based inter- ventions for BP control to increase access to high- quality health care services within communities. • Accurate BP measurement and increased use of SMBP monitoring – Increase and synergize efforts to educate and train clinicians and patients in how to select validated BP measurement devices and to measure BP accu- rately inside and outside of the office setting – Increase the use ...</td>\n",
       "      <td>American Heart Association</td>\n",
       "      <td>1051</td>\n",
       "      <td>[-0.3061797, 0.38565108, -0.26488474, -0.3007733, -0.19774589, 0.24407826, -0.7206458, 0.012624744, -0.07914578, -1.0910585, 0.5293296, -0.1326029, 0.078499116, -0.8333931, -0.45629704, 0.10201185, 0.28902215, 0.3733354, 0.29396212, 0.8514324, -0.50445575, -0.27386874, -0.14887941, -0.63517034, 0.5932322, -0.0874806, 0.31339285, -0.963422, -0.11002591, 0.05186662, 0.2377259, -0.6157047, 0.16658436, 0.4672873, -0.008122997, 0.1201987, -0.4960513, 0.4040435, -0.30293545, 0.06858949, -0.1535663...</td>\n",
       "    </tr>\n",
       "  </tbody>\n",
       "</table>\n",
       "</div>"
      ],
      "text/plain": [
       "                                                                                                                 title  \\\n",
       "1923  abdalla-et-al-2023-implementation-strategies-to-improve-blood-pressure-control-in-the-united-states-a-scientific   \n",
       "\n",
       "                                                                                                                                                                                                                                                                                                                                                                                                                                                                                                                     text  \\\n",
       "1923  mitigation efforts can be paired with multilevel strategies that support wider adoption of evidence-based inter- ventions for BP control to increase access to high- quality health care services within communities. • Accurate BP measurement and increased use of SMBP monitoring – Increase and synergize efforts to educate and train clinicians and patients in how to select validated BP measurement devices and to measure BP accu- rately inside and outside of the office setting – Increase the use ...   \n",
       "\n",
       "                         journal  tokenLength  \\\n",
       "1923  American Heart Association         1051   \n",
       "\n",
       "                                                                                                                                                                                                                                                                                                                                                                                                                                                                                                               Embeddings  \n",
       "1923  [-0.3061797, 0.38565108, -0.26488474, -0.3007733, -0.19774589, 0.24407826, -0.7206458, 0.012624744, -0.07914578, -1.0910585, 0.5293296, -0.1326029, 0.078499116, -0.8333931, -0.45629704, 0.10201185, 0.28902215, 0.3733354, 0.29396212, 0.8514324, -0.50445575, -0.27386874, -0.14887941, -0.63517034, 0.5932322, -0.0874806, 0.31339285, -0.963422, -0.11002591, 0.05186662, 0.2377259, -0.6157047, 0.16658436, 0.4672873, -0.008122997, 0.1201987, -0.4960513, 0.4040435, -0.30293545, 0.06858949, -0.1535663...  "
      ]
     },
     "execution_count": 54,
     "metadata": {},
     "output_type": "execute_result"
    }
   ],
   "source": [
    "token_df.sample(1)"
   ]
  },
  {
   "cell_type": "code",
   "execution_count": 24,
   "id": "904651a2-d90f-4029-bb61-239819cf1b02",
   "metadata": {},
   "outputs": [
    {
     "data": {
      "text/plain": [
       "768"
      ]
     },
     "execution_count": 24,
     "metadata": {},
     "output_type": "execute_result"
    }
   ],
   "source": [
    "len(token_df.loc[20, 'Embeddings'])"
   ]
  },
  {
   "cell_type": "code",
   "execution_count": 75,
   "id": "d0631277-ffe9-4441-8fce-1831307034e3",
   "metadata": {},
   "outputs": [
    {
     "name": "stdout",
     "output_type": "stream",
     "text": [
      "   Number of Elements  Count\n",
      "0                 768   2941\n"
     ]
    }
   ],
   "source": [
    "#count the number of elements in each list in each row of token_df\n",
    "#must be read in as a parquet\n",
    "# this shows there are exactly 768 embeddings in each and every row\n",
    "counts = {}\n",
    "for index, row in token_df.iterrows():\n",
    "    count = len(row['Embeddings'])\n",
    "    if count in counts:\n",
    "        counts[count] += 1\n",
    "    else:\n",
    "        counts[count] = 1\n",
    "\n",
    "# Create a DataFrame to display the counts\n",
    "counts_df = pd.DataFrame(counts.items(), columns=['Number of Elements', 'Count'])\n",
    "print(counts_df)"
   ]
  },
  {
   "cell_type": "code",
   "execution_count": 4,
   "id": "368b3218-8d29-43e8-acc7-974bd8d31663",
   "metadata": {},
   "outputs": [],
   "source": [
    "from sentence_transformers import SentenceTransformer\n",
    "from sklearn.metrics.pairwise import cosine_similarity\n",
    "import pandas as pd\n",
    "import numpy as np"
   ]
  },
  {
   "cell_type": "code",
   "execution_count": 76,
   "id": "d15f22c3-5e3a-486d-8038-8d87f0519a7c",
   "metadata": {},
   "outputs": [
    {
     "name": "stdin",
     "output_type": "stream",
     "text": [
      " What are the symptoms of heart disease?\n"
     ]
    }
   ],
   "source": [
    "# Example questions\n",
    "#question = \"What are the symptoms of heart disease?\"\n",
    "question =input()"
   ]
  },
  {
   "cell_type": "code",
   "execution_count": 6,
   "id": "3063171b-f6d8-4942-ad89-0537644c9163",
   "metadata": {},
   "outputs": [],
   "source": [
    "def heartquestion(token_df):\n",
    "    question = input()\n",
    "\n",
    "    # Load the SentenceTransformer model\n",
    "    model = SentenceTransformer(\"neuml/pubmedbert-base-embeddings\")\n",
    "    # Encode questions into embeddings\n",
    "    test_question_embeddings = model.encode(question)\n",
    "\n",
    "    # Reshape and compute Cosine Similarity\n",
    "    test_question_embeddings_2d = test_question_embeddings.reshape(1, -1)\n",
    "    embeddings_array_2d = np.stack(token_df['Embeddings']).reshape(len(token_df), -1)\n",
    "\n",
    "    # Compute cosine similarity\n",
    "    similarities = cosine_similarity(test_question_embeddings_2d, embeddings_array_2d)\n",
    "\n",
    "    # Find the index of the most similar embedding for each question\n",
    "    most_similar_indices = similarities.argmax()\n",
    "\n",
    "    # Get the corresponding text for each question\n",
    "    results = token_df.loc[most_similar_indices, 'text']\n",
    "    journal = token_df.loc[most_similar_indices, 'journal']\n",
    "    title = token_df.loc[most_similar_indices, 'title']\n",
    "    maxcossim = round(np.max(similarities),4)\n",
    "    # Print the results\n",
    "    print(f\"Question: {question}\\nTitle: {title}\\nJournal:{journal}\")\n",
    "    print(\"Cosine Similarity: \", maxcossim)\n",
    "    print(f\"Result: {results}\\n\")"
   ]
  },
  {
   "cell_type": "code",
   "execution_count": 77,
   "id": "afb290fd-b453-4973-91da-81b26819beb9",
   "metadata": {},
   "outputs": [
    {
     "name": "stdin",
     "output_type": "stream",
     "text": [
      " What are the symptoms of heart disease?\n"
     ]
    },
    {
     "name": "stderr",
     "output_type": "stream",
     "text": [
      "/Users/sheldonsutton/opt/anaconda3/lib/python3.9/site-packages/torch/_utils.py:776: UserWarning: TypedStorage is deprecated. It will be removed in the future and UntypedStorage will be the only storage class. This should only matter to you if you are using storages directly.  To access UntypedStorage directly, use tensor.untyped_storage() instead of tensor.storage()\n",
      "  return self.fget.__get__(instance, owner)()\n"
     ]
    },
    {
     "name": "stdout",
     "output_type": "stream",
     "text": [
      "Question: What are the symptoms of heart disease?\n",
      "Title: heidenreich-et-al-2022-2022-aha-acc-hfsa-guideline-for-the-management-of-heart-failure\n",
      "Journal:ACC\n",
      "Cosine Similarity:  0.5937\n",
      "Result: Speciﬁcally About Family Members* With Cardiac morphology Marked LV hypertrophy Any mention of cardiomyopathy, enlarged or weak heart, HF. Document even if attributed to other causes, such as alcohol or peripartum cardiomyopathy LV noncompaction Right ventricular thinning or fatty replacement on imaging or biopsy Findings on 12- lead ECG Abnormal high or low voltage or conduction, and repolarization, altered RV forces Long QT or Brugada syndrome Dysrhythmias Frequent NSVT or very frequent PVCs ICD Recurrent syncope Sudden death attributed to “massive heart attack” without known CAD Unexplained fatal event such as drowning or single-vehicle crash Sustained ventricular tachycardia or ﬁbrillation Early onset AF “Lone” AF before age 65 y Early onset conduction disease Pacemaker before age 65 y Extracardiac features Skeletal myopathy Neuropathy Cutaneous stigmata Other possible manifestations of systemic syndromes Any known skeletal muscle disease, including mention of Duchenne and Becker’s, Emory-Dreifuss limb-girdle dystrophy Systemic syndromes: n Dysmorphic features n Mental retardation n Congenital deafness n Neuroﬁbromatosis n Renal failure with neuropathy *Note that genetic cause is more likely when the person is younger at the onset of events. However, the cardiac morphology and peripheral manifestations of hereditary amyloidosis may present in later life, unlike most other inherited cardiomyopathies. AF indicates atrial ﬁbrillation; CAD, coronary artery disease; LV, left ventricular; NSVT, nonsustained ventricular tachycardia; PVC, premature ventricular contraction; and RV, right ventricular. Recommendations for Evaluation With Cardiac Imaging Referenced studies that support the recommendations are summarized in the Online Data Supplements. COR LOE RECOMMENDATIONS 1 C-LD 1. In patients with suspected or new-onset HF, or those presenting with acute decompensated HF, a chest x- ray should be performed to assess heart size and pulmonary congestion and to detect alternative cardiac, pulmonary, and other diseases that may cause or contribute to the patient’s symptoms (1,2). 1 C-LD 2. In patients with suspected or newly diagnosed HF, transthoracic echocardiography (TTE) should be performed during initial evaluation to assess cardiac structure and function (3). 1 C-LD 3. In patients with HF who have had a signiﬁcant clinical change, or who have received GDMT and are being considered for invasive procedures or device therapy, repeat measurement of EF, degree of structural remodeling, and valvular function are useful to inform therapeutic interventions (4-7). 1 C-LD 4. In patients for whom echocardiography is inadequate, alternative imaging (e.g., cardiac magnetic reso- nance [CMR], cardiac computed tomography [CT], radionuclide imaging) is recommended for assessment of LVEF (8-15). 2a B-NR 5. In patients with HF or cardiomyopathy, CMR can be useful for diagnosis or management (16-23). 2a B-NR 6. In patients with HF, an evaluation for possible ischemic heart disease can be useful to identify the cause and guide management (24-27). J A C C V O L . 7 9 , N O . 1 7 , 2 0 2 2 Heidenreich et al M A Y 3 , 2 0 2 2 : e 2 6 3 – e 4 2 1 2022 AHA/ACC/HFSA Heart Failure Guideline e285 Synopsis Cardiac imaging has a key role in the initial evaluation of individuals with suspected HF and, when indicated, in the serial assessment of patients with HF. After a com- plete history and physical examination, a comprehensive TTE is the most useful initial diagnostic test given the vast amount of diagnostic and prognostic information provided. The determination of LVEF is a fundamental step to classify HF and to guide evidence-based pharma- cological and device-based therapy. In certain situations, the echocardiogram is unable to accurately assess cardiac structure and/or function or more information is needed to determine the cause of the cardiac dysfunction. Other imaging modalities, such as CMR, SPECT or radionuclide ventriculography, PET, or cardiac CT or invasive coronary angiography, can provide additional and complementary information to cardiac ultrasound (11). In general, cardiac imaging tests, including repeat tests, are performed only when the results have a meaningful impact on clinical care. Recommendation-Speciﬁc Supportive Text 1. The chest x-ray is a useful initial diagnostic test for the evaluation of patients presenting with signs and symptoms of HF because it assesses cardiomegaly, pulmonary venous congestion, and interstitial or alveolar edema and may reveal alternative causes, cardiopulmonary or otherwise, of the patient’s symp- toms (1,2). Apart from congestion, other ﬁndings on chest x-ray are associated with HF only in the context of clinical presentation. Importantly, cardiomegaly may be absent in acute HF and, although cephalization, interstitial edema, and alveolar edema are modestly speciﬁc for HF, these ﬁndings are relatively insensitive (2,33). Considering the limited sensitivity and speci- ﬁcity, the chest x-ray should not be used as the only determinant of the speciﬁc cause or presence of HF. 2. TTE\n",
      "\n"
     ]
    }
   ],
   "source": [
    "heartquestion(token_df)"
   ]
  },
  {
   "cell_type": "markdown",
   "id": "db0fed1b-d7b1-4f31-9ba4-2071d85fbbca",
   "metadata": {
    "tags": []
   },
   "source": [
    "# Extra"
   ]
  },
  {
   "cell_type": "code",
   "execution_count": 258,
   "id": "40fae5e3-2f76-45ea-910a-363d953a8b16",
   "metadata": {},
   "outputs": [
    {
     "name": "stderr",
     "output_type": "stream",
     "text": [
      "/Users/sheldonsutton/opt/anaconda3/lib/python3.9/site-packages/torch/_utils.py:776: UserWarning: TypedStorage is deprecated. It will be removed in the future and UntypedStorage will be the only storage class. This should only matter to you if you are using storages directly.  To access UntypedStorage directly, use tensor.untyped_storage() instead of tensor.storage()\n",
      "  return self.fget.__get__(instance, owner)()\n"
     ]
    }
   ],
   "source": [
    "# Load the SentenceTransformer model\n",
    "model = SentenceTransformer(\"neuml/pubmedbert-base-embeddings\")\n",
    "# Encode questions into embeddings\n",
    "test_question_embeddings = model.encode(question)"
   ]
  },
  {
   "cell_type": "code",
   "execution_count": 259,
   "id": "be3eadfc-15e9-4a62-91d5-d56445b9eb46",
   "metadata": {},
   "outputs": [],
   "source": [
    "# Reshape and compute Cosine Similarity\n",
    "test_question_embeddings_2d = test_question_embeddings.reshape(1, -1)\n",
    "embeddings_array_2d = np.stack(token_df['Embeddings']).reshape(len(token_df), -1)\n",
    "\n",
    "# Compute cosine similarity\n",
    "similarities = cosine_similarity(test_question_embeddings_2d, embeddings_array_2d)"
   ]
  },
  {
   "cell_type": "code",
   "execution_count": 266,
   "id": "a215d2d2-e31a-4628-9782-a2e4d956b3f5",
   "metadata": {},
   "outputs": [
    {
     "data": {
      "text/plain": [
       "568"
      ]
     },
     "execution_count": 266,
     "metadata": {},
     "output_type": "execute_result"
    }
   ],
   "source": [
    "#display index with max cosine similarity\n",
    "similarities.argmax()"
   ]
  },
  {
   "cell_type": "code",
   "execution_count": 261,
   "id": "1255dd95-e761-4738-9456-77d8361de499",
   "metadata": {},
   "outputs": [
    {
     "name": "stdout",
     "output_type": "stream",
     "text": [
      "Question: What drugs should a patient undergoing cardiac surgery be given to prevent postoperative atrial fibrillation?\n",
      "Title: joglar-et-al-2023-2023-acc-aha-accp-hrs-guideline-for-the-diagnosis-and-management-of-atrial-fibrillation\n",
      "Journal:ACC\n",
      "Result: AF After Cardiac Surgery Referenced studies that support the recommendations are summarized in the Online Data Supplement. COR LOE RECOMMENDATIONS 2a B-R 1. In patients undergoing cardiac surgery who are at high risk for postoperative AF, it is reasonable to administer short-term prophylactic beta blockers or amiodarone to reduce the incidence of postoperative AF.1-5 2a B-R 2. In patients undergoing CABG, aortic valve, or ascending aortic aneurysm operations, it is reasonable to perform concomitant posterior left pericardiotomy to reduce the incidence of postoperative AF.6,7 FIGURE 25 Prevention of AF After Cardiac Surgery AF indicates atrial ﬁbrillation; and CABG, coronary artery bypass graft. Colors correspond to Table 2. Joglar et al J A C C V O L . 8 3 , N O . 1 , 2 0 2 4 2023 Guideline for the Diagnosis and Management of Atrial Fibrillation J A N U A R Y 2 / 9 , 2 0 2 4 : 1 0 9 – 2 7 9 222 10.9.2. Treatment of AF After Cardiac Surgery Synopsis For new-onset AF after cardiac surgery, rate control is typically managed with beta blockers, or calcium channel blockers.1-4 A randomized trial showed no signiﬁcant clinical differences comparing a strategy of rate-control versus rhythm-control medications for patients who are hemodynamically stable.5 For those with poorly controlled AF, cardioversion is reasonable, but for those with >48 hours of AF, imaging of the LAA (even if surgically closed) should be considered.5,6 The use of cardioversion and im- aging in postoperative patients is a judgment call consid- ering the patient’s clinical condition. For patients who develop postoperative AF, including during follow-up postdischarge, rhythm assessment, and possible cardio- version for the small number who are still in AF, should be considered.5,6 Colchicine had been shown to be effective, but more recent studies did not conﬁrm this, and gastro- intestinal adverse effects may be signiﬁcant.8-10 Recommendation-Speciﬁc Supportive Text 1. The use of beta blockers to control heart rate is well documented.1-4 Calcium channel blockers are an option for rate control when beta blockers are ineffective.5 2. The use of rate control or rhythm control are both acceptable options in hemodynamically stable patients because neither has a distinct clinical advantage over the other based on a randomized study that included 529 patients. In this study, patients in the rhythm- control group received amiodarone.5,6 3. Cardioversion of patients with sustained postoperative AF is regularly performed, especially for those patients with hemodynamically poorly tolerated AF. Cardio- version is routinely combined with pharmacological therapy, especially amiodarone.5,6 4. A review of 8 observational studies that included 15,335 patients found a protective impact on the mor- tality rate at 5 years but no differences in thrombo- embolic events in patients with postoperative AF treated with anticoagulants.7 In general, the duration of anticoagulation is a minimum of 60 days; in the randomized trial of rate control versus rhythm control, if patients remained in AF or had recurrent AF 48 hours after randomization, anticoagulation was recom- mended to be continued for 60 days, unless compli- cations occurred. Patients should be evaluated before discontinuation to determine underlying rhythm, especially those at high risk for stroke. 5. The need for a rhythm-control strategy should be evaluated postdischarge. Patients who tolerate rate control can be followed and often convert spontane- ously after 6 to 8 weeks. A net advantage of rate control is earlier discharge in hemodynamically stable pa- tients. Those who do not convert can be managed accordingly with rhythm-control strategy.5,6 Recommendations for Treatment of AF After Cardiac Surgery Referenced studies that support the recommendations are summarized in the Online Data Supplement. COR LOE RECOMMENDATIONS 1 A* 1. In postoperative cardiac surgery patients, beta blockers* are recommended to achieve rate control for AF1-4 unless contraindicated or ineffective in which case a nondihydropyridine calcium channel blocker† is recommended.5 B-R† 1 B-R 2. In hemodynamically stable cardiac surgery patients with postoperative AF, rate-control (target heart rate, <100 bpm) and/or rhythm-control medications are recommended as initial therapy, with the choice of strategy according to patient symptoms, hemodynamic consequences of the arrhythmia, and physician preference.5,6 1 B-R 3. In patients who develop poorly tolerated AF after cardiac surgery, direct current cardioversion in com- bination with antiarrhythmic drug therapy is recommended, with consideration of imaging to rule out left appendage thrombus before cardioversion in those patients in whom AF has been present >48 hours and who have not been on anticoagulation.5,6 2a B-NR 4. In patients who develop postoperative AF after cardiac surgery, it is reasonable to administer anti- coagulation when deemed safe in regard to surgical bleeding for 60 days after surgery unless compli- cations develop\n",
      "\n"
     ]
    }
   ],
   "source": [
    "# Find the index of the most similar embedding for each question\n",
    "most_similar_indices = similarities.argmax()\n",
    "\n",
    "# Get the corresponding text for each question\n",
    "results = token_df.loc[most_similar_indices, 'text']\n",
    "journal = token_df.loc[most_similar_indices, 'journal']\n",
    "title = token_df.loc[most_similar_indices, 'title']\n",
    "# Print the results\n",
    "print(f\"Question: {question}\\nTitle: {title}\\nJournal:{journal}\\nResult: {results}\\n\")"
   ]
  },
  {
   "cell_type": "markdown",
   "id": "f7b3fd93-7104-42da-8d9f-518ef6d4182f",
   "metadata": {},
   "source": [
    "### Cosine Similarity Example"
   ]
  },
  {
   "cell_type": "code",
   "execution_count": 111,
   "id": "cb0bac76-cf57-4fc1-a7d3-6969b68b456b",
   "metadata": {},
   "outputs": [
    {
     "data": {
      "text/plain": [
       "array([[0.99911073, 0.45950211, 0.45694615],\n",
       "       [0.46729121, 0.99471423, 0.93601148]])"
      ]
     },
     "execution_count": 111,
     "metadata": {},
     "output_type": "execute_result"
    }
   ],
   "source": [
    "embedding1 = [\n",
    "    [7, 0.4, 0.1, 0.8],\n",
    "    [0.3, 0.5, 0.2, 0.7]\n",
    "]\n",
    "\n",
    "embedding2 = [\n",
    "    [7, 0.6, 0.3, 0.9],\n",
    "    [0.4, 0.7, 0.2, 0.8],\n",
    "    [4,5,6,7]\n",
    "]\n",
    "\n",
    "# Convert lists of lists to NumPy arrays\n",
    "embedding1 = np.array(embedding1)\n",
    "embedding2 = np.array(embedding2)\n",
    "\n",
    "# Calculate cosine similarity between the embeddings\n",
    "similarity_matrix = cosine_similarity(embedding1, embedding2)\n",
    "similarity_matrix"
   ]
  },
  {
   "cell_type": "markdown",
   "id": "51c5e099-37f8-416d-b7fc-01b81ea0f6ea",
   "metadata": {},
   "source": [
    "### Test Questions"
   ]
  },
  {
   "cell_type": "markdown",
   "id": "46b2d6fc-9d0c-4d9b-90d6-8ae0d2b18d72",
   "metadata": {},
   "source": [
    "This is an 85-year-old female patient with a history of diabetes, immunocompromised status, and a family history of premature coronary artery disease (CAD). She is a current daily smoker and consumes 2-7 drinks per week. The patient has stable angina and is classified as NYHA Class I. She has two diseased vessels and an ejection fraction of 20%. The patient is undergoing her first cardiovascular surgery, specifically a coronary artery bypass graft. The surgery is elective and scheduled this week. She is not on home oxygen and does not have chronic lung disease or pneumonia. Her hematocrit level is 45%, white blood cell count is 10 x 10^9/L, platelet count is 380,000/mL, and her last recorded creatinine level is 1.0. She has a history of an IgE mediated reaction to penicillin. What antibiotic should be given to this patient before surgery this week?"
   ]
  },
  {
   "cell_type": "markdown",
   "id": "30f8dbf0-791e-4657-94a5-8b589f4425f7",
   "metadata": {},
   "source": [
    "What drugs should a patient undergoing cardiac surgery be given to prevent postoperative atrial fibrillation?"
   ]
  },
  {
   "cell_type": "markdown",
   "id": "c6eed3f7-79b8-41e1-97f5-e5a3fe265100",
   "metadata": {},
   "source": [
    "A patient presents with postoperative SND and hemodynamic instability after mitral valve repair. How should this patient be managed?"
   ]
  },
  {
   "cell_type": "markdown",
   "id": "3a688239-ac7f-4d6e-b410-eb9da57cf248",
   "metadata": {},
   "source": [
    "## Notes/Terminal Commands\n"
   ]
  },
  {
   "cell_type": "markdown",
   "id": "023506e8-48a5-4eae-b205-6c8072b75be9",
   "metadata": {},
   "source": [
    "follow port forwarding to open jupyter:\n",
    "jupyter lab --port=8080"
   ]
  },
  {
   "cell_type": "code",
   "execution_count": null,
   "id": "cad20572-fa8a-4c7a-9af5-877001f43bed",
   "metadata": {},
   "outputs": [],
   "source": [
    "MUSC_PRACTICUM/VectorDB.ipynb"
   ]
  },
  {
   "cell_type": "code",
   "execution_count": null,
   "id": "8226b610-693d-43a9-809d-92824e5f5978",
   "metadata": {},
   "outputs": [],
   "source": [
    "MUSC_PRACTICUM/token_data_embed.parquet"
   ]
  },
  {
   "cell_type": "markdown",
   "id": "98137f64-cb66-4056-bba6-e684e1309f4c",
   "metadata": {},
   "source": [
    "HERE:\n",
    "\n",
    "add token_data_embed.parquet to datasets on musc server:\n",
    "scp ~/MUSC_PRACTICUM/token_data_embed.parquet suttoshe@pe8545-innovationcenter-surgery.mdc.musc.edu:/home/suttoshe/datasets"
   ]
  },
  {
   "cell_type": "markdown",
   "id": "200cb38f-7285-40cd-aea3-ccf4fefba042",
   "metadata": {},
   "source": [
    "scp ~/MUSC_PRACTICUM/VectorDB.ipynb suttoshe@pe8545-innovationcenter-surgery.mdc.musc.edu:/home/suttoshe/notebooks"
   ]
  },
  {
   "cell_type": "markdown",
   "id": "f0e130f0-ccce-4c2b-8004-63d17803bb06",
   "metadata": {},
   "source": [
    "connect to musc via ssh:\n",
    "\n",
    "First connect to VPN\n",
    "ssh suttoshe@pe8545-innovationcenter-surgery.mdc.musc.edu\n",
    "enter pw\n",
    "bash\n",
    "maybe enter pw again\n",
    "exit (to exit)\n"
   ]
  },
  {
   "cell_type": "markdown",
   "id": "f6125964-9413-419c-baaa-5a59eef2514b",
   "metadata": {},
   "source": [
    "streamlit - websites from notebook\n"
   ]
  },
  {
   "cell_type": "code",
   "execution_count": null,
   "id": "53f7e979-a8d0-41ca-ba5b-25ee84c68bf5",
   "metadata": {},
   "outputs": [],
   "source": [
    "Also created a repo:\n",
    "\n",
    "git clone git-innovationcenter-surgery.mdc.musc.edu:/repos/mr_tr_reduction.git"
   ]
  }
 ],
 "metadata": {
  "kernelspec": {
   "display_name": "Python 3 (ipykernel)",
   "language": "python",
   "name": "python3"
  },
  "language_info": {
   "codemirror_mode": {
    "name": "ipython",
    "version": 3
   },
   "file_extension": ".py",
   "mimetype": "text/x-python",
   "name": "python",
   "nbconvert_exporter": "python",
   "pygments_lexer": "ipython3",
   "version": "3.9.12"
  }
 },
 "nbformat": 4,
 "nbformat_minor": 5
}
